{
  "nbformat": 4,
  "nbformat_minor": 0,
  "metadata": {
    "colab": {
      "provenance": [],
      "authorship_tag": "ABX9TyNjU7xM31ap7IRCNz2yJtKD",
      "include_colab_link": true
    },
    "kernelspec": {
      "name": "python3",
      "display_name": "Python 3"
    },
    "language_info": {
      "name": "python"
    }
  },
  "cells": [
    {
      "cell_type": "markdown",
      "metadata": {
        "id": "view-in-github",
        "colab_type": "text"
      },
      "source": [
        "<a href=\"https://colab.research.google.com/github/DarkWorldCoder/LearningAI/blob/master/NLP.ipynb\" target=\"_parent\"><img src=\"https://colab.research.google.com/assets/colab-badge.svg\" alt=\"Open In Colab\"/></a>"
      ]
    },
    {
      "cell_type": "code",
      "execution_count": null,
      "metadata": {
        "colab": {
          "base_uri": "https://localhost:8080/",
          "height": 638
        },
        "id": "ybciQsFG_TdL",
        "outputId": "27c1d0b9-b848-40cc-d309-d3aa1faf6812"
      },
      "outputs": [
        {
          "output_type": "execute_result",
          "data": {
            "text/plain": [
              "<Axes: >"
            ]
          },
          "metadata": {},
          "execution_count": 1
        },
        {
          "output_type": "display_data",
          "data": {
            "text/plain": [
              "<Figure size 640x480 with 1 Axes>"
            ],
            "image/png": "[encoded data removed]"
          },
          "metadata": {}
        }
      ],
      "source": [
        "from sklearn.feature_extraction.text import CountVectorizer\n",
        "import seaborn as sns\n",
        "\n",
        "corpus = [\"Time flies flies like and arrow.\",\n",
        "          \"Fruit flies like a banana.\"\n",
        "          ]\n",
        "one_hot_vectorizer = CountVectorizer(binary=True)\n",
        "one_hot = one_hot_vectorizer.fit_transform(corpus).toarray()\n",
        "sns.heatmap(one_hot,annot=True,cbar=False,xticklabels=corpus,yticklabels=[\"Sentence 2\"])\n"
      ]
    },
    {
      "cell_type": "code",
      "source": [
        "def describe(x):\n",
        "  print(\"Type: {}\".format(x.type()))\n",
        "  print(\"Shape/size: {}\".format(x.shape))\n",
        "  print(\"Values: \\n {}\".format(x))"
      ],
      "metadata": {
        "id": "MTDg4mqMEn0Q"
      },
      "execution_count": null,
      "outputs": []
    },
    {
      "cell_type": "code",
      "source": [
        "import torch\n",
        "describe(torch.Tensor(2,3))"
      ],
      "metadata": {
        "colab": {
          "base_uri": "https://localhost:8080/"
        },
        "id": "hlXmLbObEaJM",
        "outputId": "eb002d2d-08b6-4af5-8d67-1a7dc1e14af0"
      },
      "execution_count": null,
      "outputs": [
        {
          "output_type": "stream",
          "name": "stdout",
          "text": [
            "Type: torch.FloatTensor\n",
            "Shape/size: torch.Size([2, 3])\n",
            "Values: \n",
            " tensor([[1.1138e-03, 4.4551e-41, 1.1138e-03],\n",
            "        [4.4551e-41, 9.9768e-13, 4.4550e-41]])\n"
          ]
        }
      ]
    },
    {
      "cell_type": "code",
      "source": [
        "import torch\n",
        "describe(torch.rand(2,3))\n",
        "describe(torch.randn(2,3))"
      ],
      "metadata": {
        "colab": {
          "base_uri": "https://localhost:8080/"
        },
        "id": "0B442rrsEfFV",
        "outputId": "18f8d5b3-23cd-429c-80d6-f78b899b59bf"
      },
      "execution_count": null,
      "outputs": [
        {
          "output_type": "stream",
          "name": "stdout",
          "text": [
            "Type: torch.FloatTensor\n",
            "Shape/size: torch.Size([2, 3])\n",
            "Values: \n",
            " tensor([[0.2074, 0.9248, 0.4117],\n",
            "        [0.9943, 0.3476, 0.7229]])\n",
            "Type: torch.FloatTensor\n",
            "Shape/size: torch.Size([2, 3])\n",
            "Values: \n",
            " tensor([[0.5860, 0.6515, 0.0542],\n",
            "        [1.6466, 0.0917, 0.3652]])\n"
          ]
        }
      ]
    },
    {
      "cell_type": "code",
      "source": [
        "import torch\n",
        "describe(torch.zeros(2,3))\n",
        "x = torch.ones(2,3)\n",
        "describe(x)\n",
        "x.fill_(5)\n",
        "describe(x)"
      ],
      "metadata": {
        "colab": {
          "base_uri": "https://localhost:8080/"
        },
        "id": "QMgC-O4WEpBE",
        "outputId": "bbeb9b18-9f1e-41c7-fe2d-ddf3631dac00"
      },
      "execution_count": null,
      "outputs": [
        {
          "output_type": "stream",
          "name": "stdout",
          "text": [
            "Type: torch.FloatTensor\n",
            "Shape/size: torch.Size([2, 3])\n",
            "Values: \n",
            " tensor([[0., 0., 0.],\n",
            "        [0., 0., 0.]])\n",
            "Type: torch.FloatTensor\n",
            "Shape/size: torch.Size([2, 3])\n",
            "Values: \n",
            " tensor([[1., 1., 1.],\n",
            "        [1., 1., 1.]])\n",
            "Type: torch.FloatTensor\n",
            "Shape/size: torch.Size([2, 3])\n",
            "Values: \n",
            " tensor([[5., 5., 5.],\n",
            "        [5., 5., 5.]])\n"
          ]
        }
      ]
    },
    {
      "cell_type": "code",
      "source": [
        "import torch\n",
        "import numpy as np\n",
        "npy = np.random.rand(2,3)\n",
        "describe(torch.from_numpy(npy))"
      ],
      "metadata": {
        "colab": {
          "base_uri": "https://localhost:8080/"
        },
        "id": "qDDrHTufFvuA",
        "outputId": "89d7ae1e-bf62-461d-cdb8-fbeaa8eb0e9b"
      },
      "execution_count": null,
      "outputs": [
        {
          "output_type": "stream",
          "name": "stdout",
          "text": [
            "Type: torch.DoubleTensor\n",
            "Shape/size: torch.Size([2, 3])\n",
            "Values: \n",
            " tensor([[0.6316, 0.7894, 0.6286],\n",
            "        [0.2283, 0.5572, 0.3984]], dtype=torch.float64)\n"
          ]
        }
      ]
    },
    {
      "cell_type": "code",
      "source": [
        "indices = torch.LongTensor([0,2])\n",
        "describe(torch.index_select(x,dim=1,index=indices))\n"
      ],
      "metadata": {
        "id": "9IUzIGgcF6iG",
        "colab": {
          "base_uri": "https://localhost:8080/"
        },
        "outputId": "e2b53ccc-d38d-4889-d8a0-4aa19b7eb73a"
      },
      "execution_count": null,
      "outputs": [
        {
          "output_type": "stream",
          "name": "stdout",
          "text": [
            "Type: torch.FloatTensor\n",
            "Shape/size: torch.Size([2, 2])\n",
            "Values: \n",
            " tensor([[5., 5.],\n",
            "        [5., 5.]])\n"
          ]
        }
      ]
    },
    {
      "cell_type": "code",
      "source": [
        "import torch\n",
        "x1 = torch.arange(6).view(2,3)\n",
        "describe(x1)"
      ],
      "metadata": {
        "colab": {
          "base_uri": "https://localhost:8080/"
        },
        "id": "m1uveS9infxA",
        "outputId": "146ec56b-68c0-4953-ff74-d233e6f27931"
      },
      "execution_count": null,
      "outputs": [
        {
          "output_type": "stream",
          "name": "stdout",
          "text": [
            "Type: torch.LongTensor\n",
            "Shape/size: torch.Size([2, 3])\n",
            "Values: \n",
            " tensor([[0, 1, 2],\n",
            "        [3, 4, 5]])\n"
          ]
        }
      ]
    },
    {
      "cell_type": "code",
      "source": [
        "device = \"cuda\" if torch.cuda.is_available() else \"cpu\"\n",
        "x = torch.rand(3,3).to(device)"
      ],
      "metadata": {
        "id": "B5itUl98nqjb"
      },
      "execution_count": null,
      "outputs": []
    },
    {
      "cell_type": "code",
      "source": [
        "y = torch.rand(3,3)\n",
        "x + y"
      ],
      "metadata": {
        "colab": {
          "base_uri": "https://localhost:8080/"
        },
        "id": "CD-vbBVTo4DU",
        "outputId": "66d1dc54-e34a-4401-baf8-7572012eff88"
      },
      "execution_count": null,
      "outputs": [
        {
          "output_type": "execute_result",
          "data": {
            "text/plain": [
              "tensor([[1.2905, 0.2135, 1.1451],\n",
              "        [0.8037, 0.4439, 1.3052],\n",
              "        [0.5883, 0.2059, 1.4702]])"
            ]
          },
          "metadata": {},
          "execution_count": 10
        }
      ]
    },
    {
      "cell_type": "code",
      "source": [
        "cpu_device = torch.device(\"cpu\")\n",
        "y = y.to(cpu_device)\n",
        "x = x.to(cpu_device)\n",
        "x + y"
      ],
      "metadata": {
        "colab": {
          "base_uri": "https://localhost:8080/"
        },
        "id": "aPNTQaljpDih",
        "outputId": "b6cbc0cf-d073-4b96-90ea-5c1fb92c8e49"
      },
      "execution_count": null,
      "outputs": [
        {
          "output_type": "execute_result",
          "data": {
            "text/plain": [
              "tensor([[1.2905, 0.2135, 1.1451],\n",
              "        [0.8037, 0.4439, 1.3052],\n",
              "        [0.5883, 0.2059, 1.4702]])"
            ]
          },
          "metadata": {},
          "execution_count": 11
        }
      ]
    },
    {
      "cell_type": "code",
      "source": [
        "import spacy\n",
        "nlp = spacy.load(\"en_core_web_sm\")\n",
        "text = \"Mary, don't slap the green witch\"\n",
        "print([str(token) for token in nlp(text.lower())])"
      ],
      "metadata": {
        "colab": {
          "base_uri": "https://localhost:8080/"
        },
        "id": "ZPVy75dIpJyt",
        "outputId": "305c4cdc-b9d5-4ae0-c4e7-947054138171"
      },
      "execution_count": null,
      "outputs": [
        {
          "output_type": "stream",
          "name": "stdout",
          "text": [
            "['mary', ',', 'do', \"n't\", 'slap', 'the', 'green', 'witch']\n"
          ]
        }
      ]
    },
    {
      "cell_type": "code",
      "source": [
        "from nltk.tokenize import TweetTokenizer\n",
        "tweet = u\"Snow White and the Seven Degrees #MakeAMovieCold@midnight:-)\"\n",
        "tokenizer = TweetTokenizer()\n",
        "print(tokenizer.tokenize(tweet.lower()))"
      ],
      "metadata": {
        "colab": {
          "base_uri": "https://localhost:8080/"
        },
        "id": "cYgAqT47ry9O",
        "outputId": "4f8bcfa2-7f18-4034-ae71-15e6c13bfbb0"
      },
      "execution_count": null,
      "outputs": [
        {
          "output_type": "stream",
          "name": "stdout",
          "text": [
            "['snow', 'white', 'and', 'the', 'seven', 'degrees', '#makeamoviecold', '@midnight', ':-)']\n"
          ]
        }
      ]
    },
    {
      "cell_type": "code",
      "source": [
        "def n_grams(text,n):\n",
        "  words = text.split(\" \")\n",
        "  return [words[i:i+n] for i in range(len(words)-n+1)]\n",
        "\n",
        "cleaned = ['mary', ',', \"n't\", 'slap', 'green', 'witch', '.']\n",
        "print(n_grams(text=\" \".join(cleaned),n=3))"
      ],
      "metadata": {
        "colab": {
          "base_uri": "https://localhost:8080/"
        },
        "id": "zsXA5ypOr-JT",
        "outputId": "7d6ed523-37a4-4729-c773-70d832c1f448"
      },
      "execution_count": null,
      "outputs": [
        {
          "output_type": "stream",
          "name": "stdout",
          "text": [
            "[['mary', ',', \"n't\"], [',', \"n't\", 'slap'], [\"n't\", 'slap', 'green'], ['slap', 'green', 'witch'], ['green', 'witch', '.']]\n"
          ]
        }
      ]
    },
    {
      "cell_type": "code",
      "source": [
        "import spacy\n",
        "nlp = spacy.load(\"en_core_web_sm\")\n",
        "doc = nlp(u\"he was running late\")\n",
        "for token in doc:\n",
        "  print(\"{} --> {}\".format(token,token.lemma_))"
      ],
      "metadata": {
        "colab": {
          "base_uri": "https://localhost:8080/"
        },
        "id": "xZIXnDuXspyw",
        "outputId": "1695a64e-ad1d-4240-8f77-625ef6b40688"
      },
      "execution_count": null,
      "outputs": [
        {
          "output_type": "stream",
          "name": "stderr",
          "text": [
            "/usr/local/lib/python3.11/dist-packages/spacy/util.py:1740: UserWarning: [W111] Jupyter notebook detected: if using `prefer_gpu()` or `require_gpu()`, include it in the same cell right before `spacy.load()` to ensure that the model is loaded on the correct device. More information: http://spacy.io/usage/v3#jupyter-notebook-gpu\n",
            "  warnings.warn(Warnings.W111)\n"
          ]
        },
        {
          "output_type": "stream",
          "name": "stdout",
          "text": [
            "he --> he\n",
            "was --> be\n",
            "running --> run\n",
            "late --> late\n"
          ]
        }
      ]
    },
    {
      "cell_type": "code",
      "source": [
        "import spacy\n",
        "nlp = spacy.load(\"en_core_web_sm\")\n",
        "doc = nlp(u\"Mary slapped the green witch.\")\n",
        "for token in doc:\n",
        "  print(\"{} --> {}\".format(token,token.pos_))\n"
      ],
      "metadata": {
        "colab": {
          "base_uri": "https://localhost:8080/"
        },
        "id": "ZpDPwtGWs46P",
        "outputId": "09f9636a-b28e-41c5-af03-e3561cb22a26"
      },
      "execution_count": null,
      "outputs": [
        {
          "output_type": "stream",
          "name": "stdout",
          "text": [
            "Mary --> PROPN\n",
            "slapped --> VERB\n",
            "the --> DET\n",
            "green --> ADJ\n",
            "witch --> NOUN\n",
            ". --> PUNCT\n"
          ]
        }
      ]
    },
    {
      "cell_type": "code",
      "source": [
        "import spacy\n",
        "nlp = spacy.load(\"en_core_web_sm\")\n",
        "doc = nlp(u\"Mary slapped the green witch.\")\n",
        "for chunk in doc.noun_chunks:\n",
        "  print(\"{} --> {}\".format(chunk,chunk.label_))"
      ],
      "metadata": {
        "colab": {
          "base_uri": "https://localhost:8080/"
        },
        "id": "1BZZe_4qtZXV",
        "outputId": "2424d9b1-ac64-44fe-9173-b5abb9a013c5"
      },
      "execution_count": null,
      "outputs": [
        {
          "output_type": "stream",
          "name": "stdout",
          "text": [
            "Mary --> NP\n",
            "the green witch --> NP\n"
          ]
        }
      ]
    },
    {
      "cell_type": "code",
      "source": [
        "import torch\n",
        "import torch.nn as nn\n",
        "\n",
        "class Perceptron(nn.Module):\n",
        "\n",
        "  def __init__(self,input_dim):\n",
        "    super(Perceptron,self).__init__()\n",
        "    self.fc1 = nn.Linear(input_dim,1)\n",
        "\n",
        "  def forward(self,x_in):\n",
        "    return torch.sigmoid(self.fc1(x_in)).squeeze()"
      ],
      "metadata": {
        "id": "bxzwdJsmtxvs"
      },
      "execution_count": null,
      "outputs": []
    },
    {
      "cell_type": "code",
      "source": [
        "import torch\n",
        "import matplotlib.pyplot as plt\n",
        "\n",
        "x = torch.range(-5.,5.,0.1)\n",
        "y = torch.sigmoid(x)\n",
        "plt.plot(x.numpy(),y.numpy())\n",
        "plt.show()"
      ],
      "metadata": {
        "colab": {
          "base_uri": "https://localhost:8080/",
          "height": 485
        },
        "id": "VapdO1EGvjId",
        "outputId": "065d3528-02db-46c2-de35-594298276350"
      },
      "execution_count": null,
      "outputs": [
        {
          "output_type": "stream",
          "name": "stderr",
          "text": [
            "<ipython-input-19-0edefc7caec7>:4: UserWarning: torch.range is deprecated and will be removed in a future release because its behavior is inconsistent with Python's range builtin. Instead, use torch.arange, which produces values in [start, end).\n",
            "  x = torch.range(-5.,5.,0.1)\n"
          ]
        },
        {
          "output_type": "display_data",
          "data": {
            "text/plain": [
              "<Figure size 640x480 with 1 Axes>"
            ],
            "image/png": "[encoded data removed]"
          },
          "metadata": {}
        }
      ]
    },
    {
      "cell_type": "code",
      "source": [
        "import torch\n",
        "import torch.nn as nn\n",
        "\n",
        "mse_loss = nn.MSELoss()\n",
        "outputs = torch.randn(3,5,requires_grad=True)\n",
        "targets = torch.randn(3,5)\n",
        "loss = mse_loss(outputs,targets)\n",
        "print(loss)"
      ],
      "metadata": {
        "id": "iggmjel0xcZR",
        "colab": {
          "base_uri": "https://localhost:8080/"
        },
        "outputId": "6127bbd9-09c7-4147-d191-b2ac27298a03"
      },
      "execution_count": null,
      "outputs": [
        {
          "output_type": "stream",
          "name": "stdout",
          "text": [
            "tensor(2.6166, grad_fn=<MseLossBackward0>)\n"
          ]
        }
      ]
    },
    {
      "cell_type": "code",
      "source": [
        "import torch.nn as nn\n",
        "import torch.optim as optim\n",
        "\n",
        "input_dim =2\n",
        "lr = 0.001\n",
        "perceptron = Perceptron(input_dim=input_dim)\n",
        "bce_loss = nn.BCELoss()\n",
        "optimizer = optim.Adam(params=perceptron.parameters(),lr=lr)"
      ],
      "metadata": {
        "id": "tQMbhK-1YuD2"
      },
      "execution_count": null,
      "outputs": []
    },
    {
      "cell_type": "code",
      "source": [
        "for epoch_i in range(n_epochs):\n",
        "# the inner loop is over the batches in the dataset\n",
        "  for batch_i in range(n_batches):\n",
        "    # Step 0: Get the data\n",
        "    x_data, y_target = get_toy_data(batch_size)\n",
        "    # Step 1: Clear the gradients\n",
        "    perceptron.zero_grad()\n",
        "    # Step 2: Compute the forward pass of the model\n",
        "    y_pred = perceptron(x_data, apply_sigmoid=True)\n",
        "    # Step 3: Compute the loss value that we wish to optimize\n",
        "    loss = bce_loss(y_pred, y_target)\n",
        "    # Step 4: Propagate the loss signal backward\n",
        "    loss.backward()\n",
        "    # Step 5: Trigger the"
      ],
      "metadata": {
        "id": "-GYlBfDbuN5F",
        "colab": {
          "base_uri": "https://localhost:8080/",
          "height": 211
        },
        "outputId": "92845550-d2bf-4c50-c431-b59796d0e320"
      },
      "execution_count": null,
      "outputs": [
        {
          "output_type": "error",
          "ename": "NameError",
          "evalue": "name 'n_epochs' is not defined",
          "traceback": [
            "\u001b[0;31m---------------------------------------------------------------------------\u001b[0m",
            "\u001b[0;31mNameError\u001b[0m                                 Traceback (most recent call last)",
            "\u001b[0;32m<ipython-input-1-db53d3926964>\u001b[0m in \u001b[0;36m<cell line: 0>\u001b[0;34m()\u001b[0m\n\u001b[0;32m----> 1\u001b[0;31m \u001b[0;32mfor\u001b[0m \u001b[0mepoch_i\u001b[0m \u001b[0;32min\u001b[0m \u001b[0mrange\u001b[0m\u001b[0;34m(\u001b[0m\u001b[0mn_epochs\u001b[0m\u001b[0;34m)\u001b[0m\u001b[0;34m:\u001b[0m\u001b[0;34m\u001b[0m\u001b[0;34m\u001b[0m\u001b[0m\n\u001b[0m\u001b[1;32m      2\u001b[0m \u001b[0;31m# the inner loop is over the batches in the dataset\u001b[0m\u001b[0;34m\u001b[0m\u001b[0;34m\u001b[0m\u001b[0m\n\u001b[1;32m      3\u001b[0m   \u001b[0;32mfor\u001b[0m \u001b[0mbatch_i\u001b[0m \u001b[0;32min\u001b[0m \u001b[0mrange\u001b[0m\u001b[0;34m(\u001b[0m\u001b[0mn_batches\u001b[0m\u001b[0;34m)\u001b[0m\u001b[0;34m:\u001b[0m\u001b[0;34m\u001b[0m\u001b[0;34m\u001b[0m\u001b[0m\n\u001b[1;32m      4\u001b[0m     \u001b[0;31m# Step 0: Get the data\u001b[0m\u001b[0;34m\u001b[0m\u001b[0;34m\u001b[0m\u001b[0m\n\u001b[1;32m      5\u001b[0m     \u001b[0mx_data\u001b[0m\u001b[0;34m,\u001b[0m \u001b[0my_target\u001b[0m \u001b[0;34m=\u001b[0m \u001b[0mget_toy_data\u001b[0m\u001b[0;34m(\u001b[0m\u001b[0mbatch_size\u001b[0m\u001b[0;34m)\u001b[0m\u001b[0;34m\u001b[0m\u001b[0;34m\u001b[0m\u001b[0m\n",
            "\u001b[0;31mNameError\u001b[0m: name 'n_epochs' is not defined"
          ]
        }
      ]
    },
    {
      "cell_type": "code",
      "source": [
        "class Vocabulary(object):\n",
        "  def __init__(self,token_to_idx=None,add_unk=True,unk_token=\"<UNK>\"):\n",
        "    if token_to_idx is None:\n",
        "      token_to_idx = {}\n",
        "    self._token_to_idx = token_to_idx\n",
        "    self._idx_to_token = {idx:token for token,idx in self._token_to_idex.items()}\n",
        "    self._add_unk = add_unk\n",
        "    self._unk_token = unk_token\n",
        "    self.unk_index = -1\n",
        "\n",
        "    if add_unk:\n",
        "      self.unk_index = self.add_token(unk_token)\n",
        "  def to_serializable(self):\n",
        "    return {\"token_to_idx\":self._token_to_idx,\n",
        "            \"add_unk\":self._add_unk,\n",
        "            \"unk_token\":self._unk_token}\n",
        "  @classmethod\n",
        "  def from_serializable(cls,contents):\n",
        "    return cls(**contents)\n",
        "\n",
        "  def add_token(self,token):\n",
        "\n",
        "    if token in self._token_to_idx:\n",
        "      index = self._token_to_idx[token]\n",
        "    else:\n",
        "      index = len(self._token_to_idx)\n",
        "      self._token_to_idx[token] = index\n",
        "      self._idx_to_token[index] = token\n",
        "    return index\n",
        "\n",
        "  def lookup_token(self,token):\n",
        "    if self.add_unk:\n",
        "      return self._token_to_idx.get(token,self.unk_index)\n",
        "    else:\n",
        "      return self._token_to_idx[token]\n",
        "\n",
        "  def lookup_index(self,index):\n",
        "    if index not in self._idx_to_token:\n",
        "      raise KeyError(\"the index (%d) is not in the Vocabulary\" % index)\n",
        "    return self._idx_to_token[index]\n",
        "\n",
        "  def __str__(self):\n",
        "    return \"<Vocabulary(size=%d)>\" % len(self)\n",
        "\n",
        "  def __len__(self):\n",
        "    return len(self._token_to_idx)\n",
        "\n",
        "\n",
        "\n",
        "\n"
      ],
      "metadata": {
        "id": "KqeuVnmZnSSL"
      },
      "execution_count": null,
      "outputs": []
    },
    {
      "cell_type": "code",
      "source": [
        "from typing import Counter\n",
        "class ReviewVectorizer(object):\n",
        "  def __init__(self,review_vocab,rating_vocab):\n",
        "    self.review_vocab = review_vocab\n",
        "    self.rating_vocab = rating_vocab\n",
        "\n",
        "  def vectorize(self,review):\n",
        "    one_hot = np.zeros(len(self.review_vocab),dtype=np.float32)\n",
        "\n",
        "    for token in review.split(\" \"):\n",
        "      if token not in string.punctuation:\n",
        "        one_hot[self.review_vocab.lookup_token(token)] = 1\n",
        "\n",
        "    return one_hot\n",
        "\n",
        "  @classmethod\n",
        "  def from_dataframe(cls,review_df,cutoff=25):\n",
        "    review_vocab = Vocabulary(add_unk=True)\n",
        "    rating_vocab = Vocabulary(add_unk=False)\n",
        "\n",
        "    for rating in sorted(set(review_df.rating)):\n",
        "      rating_vocab.add_token(rating)\n",
        "\n",
        "    word_counts = Counter()\n",
        "    for review in review_df.review:\n",
        "      for word in review.split(\" \"):\n",
        "        if word not in string.punctuation:\n",
        "          word_counts[word] +=1\n",
        "    for word,count in word_counts.items():\n",
        "      if count > cutoff:\n",
        "        review_vocab.add_token(word)\n",
        "\n",
        "      return cls(review_vocab,rating_vocab)\n",
        "\n",
        "  @classmethod\n",
        "  def from_serializable(cls,contents):\n",
        "    review_vocab = Vocabulary.from_serializable(contents['review_vocab'])\n",
        "    rating_vocab = Vocabulary.from_serializable(contents['rating_vocab'])\n",
        "    return cls(review_vocab=review_vocab,rating_vocab=rating_vocab)\n",
        "\n",
        "  def to_serializable(self):\n",
        "    return {'review_vocab':self.review_vocab.to_serializable(),\n",
        "            'rating_vocab':self.rating_vocab.to_serializable()}\n",
        "\n",
        "  def generate_batches(dataset,batch_sizze,shuffle=True,drop_last=True,device=\"cpu\"):\n",
        "    dataloader = DataLoader(dataset=dataset,batch_size=batch_size,shuffle=shuffle,drop_last=drop_last)\n",
        "    for data_dict in dataloader:\n",
        "      out_data_dict = {}\n",
        "      for name,tensor in data_dict.items():\n",
        "        out_data_dict[name] = data_dict[name].to(device)\n",
        "      yield out_data_dict\n",
        "\n"
      ],
      "metadata": {
        "id": "V4J7UntVq31K"
      },
      "execution_count": null,
      "outputs": []
    },
    {
      "cell_type": "code",
      "source": [
        "import torch.nn as nn\n",
        "import torch.nn.functional as F"
      ],
      "metadata": {
        "id": "H905fQLX7WaU"
      },
      "execution_count": null,
      "outputs": []
    },
    {
      "cell_type": "code",
      "source": [
        "class ReviewClassifier(nn.Module):\n",
        "  def __init__(self,num_features):\n",
        "    super(ReviewClassifier,self).__init__()\n",
        "    self.fc1 = nn.Linear(in_features=num_features,out_features=1)\n",
        "\n",
        "  def forward(self,x_in,apply_sigmoid=False):\n",
        "    y_out = self.fc1(x_in).squeeze()\n",
        "    if apply_sigmoid:\n",
        "      y_out = F.sigmoid(y_out)\n",
        "    return y_out"
      ],
      "metadata": {
        "id": "LtG-_aYR73bm"
      },
      "execution_count": null,
      "outputs": []
    },
    {
      "cell_type": "code",
      "source": [
        "from argparse import Namespace\n",
        "\n",
        "args = Namespace(\n",
        "    frequency_cutoff =25,\n",
        "    model_state_file=\"model.pth\",\n",
        "    review_csv=\"data/yelp/reviews_with_splits_lite.csv\",\n",
        "    save_dir=\"model_storage/ch3/yelp/\",\n",
        "    vectorizer_file=\"vectorizer.json\",\n",
        "    batch_size = 128,\n",
        "    early_stopping_criteria=5,\n",
        "    learning_rate=0.001,\n",
        "    num_epochs=100,\n",
        "    seed=1337\n",
        "\n",
        ")"
      ],
      "metadata": {
        "id": "xx4j7erV8Rtm"
      },
      "execution_count": null,
      "outputs": []
    },
    {
      "cell_type": "code",
      "source": [
        "print(\"hekko\")"
      ],
      "metadata": {
        "id": "OSqxE0yf83L9"
      },
      "execution_count": null,
      "outputs": []
    }
  ]
}
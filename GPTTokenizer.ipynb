{
  "nbformat": 4,
  "nbformat_minor": 0,
  "metadata": {
    "colab": {
      "provenance": [],
      "authorship_tag": "ABX9TyOY9zR3kH8I2mPv4WW4+5Zx",
      "include_colab_link": true
    },
    "kernelspec": {
      "name": "python3",
      "display_name": "Python 3"
    },
    "language_info": {
      "name": "python"
    }
  },
  "cells": [
    {
      "cell_type": "markdown",
      "metadata": {
        "id": "view-in-github",
        "colab_type": "text"
      },
      "source": [
        "<a href=\"https://colab.research.google.com/github/DarkWorldCoder/LearningAI/blob/master/GPTTokenizer.ipynb\" target=\"_parent\"><img src=\"https://colab.research.google.com/assets/colab-badge.svg\" alt=\"Open In Colab\"/></a>"
      ]
    },
    {
      "cell_type": "code",
      "execution_count": 1,
      "metadata": {
        "colab": {
          "base_uri": "https://localhost:8080/"
        },
        "id": "ySU4wJYiDX09",
        "outputId": "f27286f0-e202-4731-a382-1c2e46786662"
      },
      "outputs": [
        {
          "output_type": "stream",
          "name": "stdout",
          "text": [
            "------\n",
            "Unicode Integrate the DeepSeek API into various popular software applications to enhance functionality. The DeepSeek Open Platform provides an API key for integration. Compatible tools include ChatGPT-Next-Web, LibreChat, RSS Translator, Raycast, PHP Client, Laravel, Zotero, SiYuan, and many others, across multiple operating systems such as macOS, iOS, and iPadOS.\n",
            "lengths 366\n",
            "------------\n",
            "[85, 110, 105, 99, 111, 100, 101, 32, 73, 110, 116, 101, 103, 114, 97, 116, 101, 32, 116, 104, 101, 32, 68, 101, 101, 112, 83, 101, 101, 107, 32, 65, 80, 73, 32, 105, 110, 116, 111, 32, 118, 97, 114, 105, 111, 117, 115, 32, 112, 111, 112, 117, 108, 97, 114, 32, 115, 111, 102, 116, 119, 97, 114, 101, 32, 97, 112, 112, 108, 105, 99, 97, 116, 105, 111, 110, 115, 32, 116, 111, 32, 101, 110, 104, 97, 110, 99, 101, 32, 102, 117, 110, 99, 116, 105, 111, 110, 97, 108, 105, 116, 121, 46, 32, 84, 104, 101, 32, 68, 101, 101, 112, 83, 101, 101, 107, 32, 79, 112, 101, 110, 32, 80, 108, 97, 116, 102, 111, 114, 109, 32, 112, 114, 111, 118, 105, 100, 101, 115, 32, 97, 110, 32, 65, 80, 73, 32, 107, 101, 121, 32, 102, 111, 114, 32, 105, 110, 116, 101, 103, 114, 97, 116, 105, 111, 110, 46, 32, 67, 111, 109, 112, 97, 116, 105, 98, 108, 101, 32, 116, 111, 111, 108, 115, 32, 105, 110, 99, 108, 117, 100, 101, 32, 67, 104, 97, 116, 71, 80, 84, 45, 78, 101, 120, 116, 45, 87, 101, 98, 44, 32, 76, 105, 98, 114, 101, 67, 104, 97, 116, 44, 32, 82, 83, 83, 32, 84, 114, 97, 110, 115, 108, 97, 116, 111, 114, 44, 32, 82, 97, 121, 99, 97, 115, 116, 44, 32, 80, 72, 80, 32, 67, 108, 105, 101, 110, 116, 44, 32, 76, 97, 114, 97, 118, 101, 108, 44, 32, 90, 111, 116, 101, 114, 111, 44, 32, 83, 105, 89, 117, 97, 110, 44, 32, 97, 110, 100, 32, 109, 97, 110, 121, 32, 111, 116, 104, 101, 114, 115, 44, 32, 97, 99, 114, 111, 115, 115, 32, 109, 117, 108, 116, 105, 112, 108, 101, 32, 111, 112, 101, 114, 97, 116, 105, 110, 103, 32, 115, 121, 115, 116, 101, 109, 115, 32, 115, 117, 99, 104, 32, 97, 115, 32, 109, 97, 99, 79, 83, 44, 32, 105, 79, 83, 44, 32, 97, 110, 100, 32, 105, 80, 97, 100, 79, 83, 46]\n",
            "length: 366\n"
          ]
        }
      ],
      "source": [
        "text = \"Unicode Integrate the DeepSeek API into various popular software applications to enhance functionality. The DeepSeek Open Platform provides an API key for integration. Compatible tools include ChatGPT-Next-Web, LibreChat, RSS Translator, Raycast, PHP Client, Laravel, Zotero, SiYuan, and many others, across multiple operating systems such as macOS, iOS, and iPadOS.\"\n",
        "tokens = text.encode(\"utf-8\")\n",
        "tokens = list(map(int,tokens))\n",
        "print(\"------\")\n",
        "print(text)\n",
        "print(\"lengths\",len(text))\n",
        "print(\"------------\")\n",
        "print(tokens)\n",
        "print(\"length:\",len(tokens))"
      ]
    },
    {
      "cell_type": "code",
      "source": [
        "def get_stats(ids):\n",
        "  counts = {}\n",
        "  for pair in zip(ids,ids[1:]):\n",
        "    counts[pair] = counts.get(pair,0) +1\n",
        "  return counts\n",
        "\n",
        "stats = get_stats(tokens)\n",
        "print(stats)"
      ],
      "metadata": {
        "colab": {
          "base_uri": "https://localhost:8080/"
        },
        "id": "rLor2Q2lRUur",
        "outputId": "1a084afb-4b3c-479b-a31b-555188048af4"
      },
      "execution_count": 2,
      "outputs": [
        {
          "output_type": "stream",
          "name": "stdout",
          "text": [
            "{(85, 110): 1, (110, 105): 1, (105, 99): 2, (99, 111): 1, (111, 100): 1, (100, 101): 3, (101, 32): 9, (32, 73): 1, (73, 110): 1, (110, 116): 4, (116, 101): 5, (101, 103): 2, (103, 114): 2, (114, 97): 5, (97, 116): 9, (32, 116): 3, (116, 104): 2, (104, 101): 3, (32, 68): 2, (68, 101): 2, (101, 101): 4, (101, 112): 2, (112, 83): 2, (83, 101): 2, (101, 107): 2, (107, 32): 2, (32, 65): 2, (65, 80): 2, (80, 73): 2, (73, 32): 2, (32, 105): 5, (105, 110): 4, (116, 111): 4, (111, 32): 2, (32, 118): 1, (118, 97): 1, (97, 114): 4, (114, 105): 1, (105, 111): 4, (111, 117): 1, (117, 115): 1, (115, 32): 7, (32, 112): 2, (112, 111): 1, (111, 112): 2, (112, 117): 1, (117, 108): 2, (108, 97): 3, (114, 32): 2, (32, 115): 3, (115, 111): 1, (111, 102): 1, (102, 116): 1, (116, 119): 1, (119, 97): 1, (114, 101): 2, (32, 97): 6, (97, 112): 1, (112, 112): 1, (112, 108): 2, (108, 105): 3, (99, 97): 2, (116, 105): 6, (111, 110): 3, (110, 115): 2, (32, 101): 1, (101, 110): 3, (110, 104): 1, (104, 97): 3, (97, 110): 7, (110, 99): 3, (99, 101): 1, (32, 102): 2, (102, 117): 1, (117, 110): 1, (99, 116): 1, (110, 97): 1, (97, 108): 1, (105, 116): 1, (116, 121): 1, (121, 46): 1, (46, 32): 2, (32, 84): 2, (84, 104): 1, (32, 79): 1, (79, 112): 1, (112, 101): 2, (110, 32): 2, (32, 80): 2, (80, 108): 1, (116, 102): 1, (102, 111): 2, (111, 114): 3, (114, 109): 1, (109, 32): 1, (112, 114): 1, (114, 111): 3, (111, 118): 1, (118, 105): 1, (105, 100): 1, (101, 115): 1, (32, 107): 1, (107, 101): 1, (101, 121): 1, (121, 32): 2, (110, 46): 1, (32, 67): 3, (67, 111): 1, (111, 109): 1, (109, 112): 1, (112, 97): 1, (105, 98): 2, (98, 108): 1, (108, 101): 2, (111, 111): 1, (111, 108): 1, (108, 115): 1, (99, 108): 1, (108, 117): 1, (117, 100): 1, (67, 104): 2, (116, 71): 1, (71, 80): 1, (80, 84): 1, (84, 45): 1, (45, 78): 1, (78, 101): 1, (101, 120): 1, (120, 116): 1, (116, 45): 1, (45, 87): 1, (87, 101): 1, (101, 98): 1, (98, 44): 1, (44, 32): 11, (32, 76): 2, (76, 105): 1, (98, 114): 1, (101, 67): 1, (116, 44): 3, (32, 82): 2, (82, 83): 1, (83, 83): 1, (83, 32): 1, (84, 114): 1, (115, 108): 1, (114, 44): 1, (82, 97): 1, (97, 121): 1, (121, 99): 1, (97, 115): 2, (115, 116): 2, (80, 72): 1, (72, 80): 1, (80, 32): 1, (67, 108): 1, (105, 101): 1, (76, 97): 1, (97, 118): 1, (118, 101): 1, (101, 108): 1, (108, 44): 1, (32, 90): 1, (90, 111): 1, (111, 116): 2, (101, 114): 3, (111, 44): 1, (32, 83): 1, (83, 105): 1, (105, 89): 1, (89, 117): 1, (117, 97): 1, (110, 44): 1, (110, 100): 2, (100, 32): 2, (32, 109): 3, (109, 97): 2, (110, 121): 1, (32, 111): 2, (114, 115): 1, (115, 44): 1, (97, 99): 2, (99, 114): 1, (111, 115): 1, (115, 115): 1, (109, 117): 1, (108, 116): 1, (105, 112): 1, (110, 103): 1, (103, 32): 1, (115, 121): 1, (121, 115): 1, (101, 109): 1, (109, 115): 1, (115, 117): 1, (117, 99): 1, (99, 104): 1, (104, 32): 1, (99, 79): 1, (79, 83): 3, (83, 44): 2, (105, 79): 1, (105, 80): 1, (80, 97): 1, (97, 100): 1, (100, 79): 1, (83, 46): 1}\n"
          ]
        }
      ]
    },
    {
      "cell_type": "code",
      "source": [
        "top_pair = max(stats,key=stats.get)\n",
        "top_pair"
      ],
      "metadata": {
        "colab": {
          "base_uri": "https://localhost:8080/"
        },
        "id": "qoUJ5RY2R6tE",
        "outputId": "fd47e3cd-2274-43eb-a3af-bab131ba3405"
      },
      "execution_count": 3,
      "outputs": [
        {
          "output_type": "execute_result",
          "data": {
            "text/plain": [
              "(44, 32)"
            ]
          },
          "metadata": {},
          "execution_count": 3
        }
      ]
    },
    {
      "cell_type": "code",
      "source": [
        "def merge(ids,pair,idx):\n",
        "  newids= []\n",
        "  i=0\n",
        "  while i <len(ids):\n",
        "    if i < len(ids) -1 and ids[i] ==pair[0] and ids[i+1] == pair[1]:\n",
        "      newids.append(idx)\n",
        "      i +=2\n",
        "    else:\n",
        "      newids.append(ids[i])\n",
        "      i +=1\n",
        "  return newids\n",
        "\n"
      ],
      "metadata": {
        "id": "VTS7VmQ8SniB"
      },
      "execution_count": 4,
      "outputs": []
    },
    {
      "cell_type": "code",
      "source": [
        "tokens2 = merge(tokens,top_pair,256)\n",
        "print(tokens2)"
      ],
      "metadata": {
        "colab": {
          "base_uri": "https://localhost:8080/"
        },
        "id": "cQSZ9KwtTBJ_",
        "outputId": "3583dfe6-10e4-407b-9b44-e5a135b28751"
      },
      "execution_count": 5,
      "outputs": [
        {
          "output_type": "stream",
          "name": "stdout",
          "text": [
            "[85, 110, 105, 99, 111, 100, 101, 32, 73, 110, 116, 101, 103, 114, 97, 116, 101, 32, 116, 104, 101, 32, 68, 101, 101, 112, 83, 101, 101, 107, 32, 65, 80, 73, 32, 105, 110, 116, 111, 32, 118, 97, 114, 105, 111, 117, 115, 32, 112, 111, 112, 117, 108, 97, 114, 32, 115, 111, 102, 116, 119, 97, 114, 101, 32, 97, 112, 112, 108, 105, 99, 97, 116, 105, 111, 110, 115, 32, 116, 111, 32, 101, 110, 104, 97, 110, 99, 101, 32, 102, 117, 110, 99, 116, 105, 111, 110, 97, 108, 105, 116, 121, 46, 32, 84, 104, 101, 32, 68, 101, 101, 112, 83, 101, 101, 107, 32, 79, 112, 101, 110, 32, 80, 108, 97, 116, 102, 111, 114, 109, 32, 112, 114, 111, 118, 105, 100, 101, 115, 32, 97, 110, 32, 65, 80, 73, 32, 107, 101, 121, 32, 102, 111, 114, 32, 105, 110, 116, 101, 103, 114, 97, 116, 105, 111, 110, 46, 32, 67, 111, 109, 112, 97, 116, 105, 98, 108, 101, 32, 116, 111, 111, 108, 115, 32, 105, 110, 99, 108, 117, 100, 101, 32, 67, 104, 97, 116, 71, 80, 84, 45, 78, 101, 120, 116, 45, 87, 101, 98, 256, 76, 105, 98, 114, 101, 67, 104, 97, 116, 256, 82, 83, 83, 32, 84, 114, 97, 110, 115, 108, 97, 116, 111, 114, 256, 82, 97, 121, 99, 97, 115, 116, 256, 80, 72, 80, 32, 67, 108, 105, 101, 110, 116, 256, 76, 97, 114, 97, 118, 101, 108, 256, 90, 111, 116, 101, 114, 111, 256, 83, 105, 89, 117, 97, 110, 256, 97, 110, 100, 32, 109, 97, 110, 121, 32, 111, 116, 104, 101, 114, 115, 256, 97, 99, 114, 111, 115, 115, 32, 109, 117, 108, 116, 105, 112, 108, 101, 32, 111, 112, 101, 114, 97, 116, 105, 110, 103, 32, 115, 121, 115, 116, 101, 109, 115, 32, 115, 117, 99, 104, 32, 97, 115, 32, 109, 97, 99, 79, 83, 256, 105, 79, 83, 256, 97, 110, 100, 32, 105, 80, 97, 100, 79, 83, 46]\n"
          ]
        }
      ]
    },
    {
      "cell_type": "code",
      "source": [
        "vocab_size = 276\n",
        "num_merges = vocab_size - 256\n",
        "ids = list(tokens)\n",
        "\n",
        "merges = {}\n",
        "for i in range(num_merges):\n",
        "  stats = get_stats(ids)\n",
        "  pair = max(stats,key=stats.get)\n",
        "  idx = 256+i\n",
        "  ids =merge(ids,pair,idx)\n",
        "  merges[pair] = idx"
      ],
      "metadata": {
        "id": "bGcEBA5dTViP"
      },
      "execution_count": 6,
      "outputs": []
    },
    {
      "cell_type": "code",
      "source": [
        "vocab = {idx:bytes([idx]) for idx in range(256)}\n",
        "for (p0,p1),idx in merges.items():\n",
        "  vocab[idx] = vocab[p0] + vocab[p1]\n",
        "print(vocab)\n",
        "\n",
        "def decode(ids):\n",
        "  tokens = b\"\".join(vocab[idx] for idx in ids)\n",
        "  text = tokens.decode(\"utf-8\",errors=\"replace\")\n",
        "  return text\n",
        "\n",
        "print(decode)\n",
        "\n"
      ],
      "metadata": {
        "colab": {
          "base_uri": "https://localhost:8080/"
        },
        "id": "aQTbF6AAUcub",
        "outputId": "ac7e6298-4991-477d-c356-901757e9411a"
      },
      "execution_count": 7,
      "outputs": [
        {
          "output_type": "stream",
          "name": "stdout",
          "text": [
            "{0: b'\\x00', 1: b'\\x01', 2: b'\\x02', 3: b'\\x03', 4: b'\\x04', 5: b'\\x05', 6: b'\\x06', 7: b'\\x07', 8: b'\\x08', 9: b'\\t', 10: b'\\n', 11: b'\\x0b', 12: b'\\x0c', 13: b'\\r', 14: b'\\x0e', 15: b'\\x0f', 16: b'\\x10', 17: b'\\x11', 18: b'\\x12', 19: b'\\x13', 20: b'\\x14', 21: b'\\x15', 22: b'\\x16', 23: b'\\x17', 24: b'\\x18', 25: b'\\x19', 26: b'\\x1a', 27: b'\\x1b', 28: b'\\x1c', 29: b'\\x1d', 30: b'\\x1e', 31: b'\\x1f', 32: b' ', 33: b'!', 34: b'\"', 35: b'#', 36: b'$', 37: b'%', 38: b'&', 39: b\"'\", 40: b'(', 41: b')', 42: b'*', 43: b'+', 44: b',', 45: b'-', 46: b'.', 47: b'/', 48: b'0', 49: b'1', 50: b'2', 51: b'3', 52: b'4', 53: b'5', 54: b'6', 55: b'7', 56: b'8', 57: b'9', 58: b':', 59: b';', 60: b'<', 61: b'=', 62: b'>', 63: b'?', 64: b'@', 65: b'A', 66: b'B', 67: b'C', 68: b'D', 69: b'E', 70: b'F', 71: b'G', 72: b'H', 73: b'I', 74: b'J', 75: b'K', 76: b'L', 77: b'M', 78: b'N', 79: b'O', 80: b'P', 81: b'Q', 82: b'R', 83: b'S', 84: b'T', 85: b'U', 86: b'V', 87: b'W', 88: b'X', 89: b'Y', 90: b'Z', 91: b'[', 92: b'\\\\', 93: b']', 94: b'^', 95: b'_', 96: b'`', 97: b'a', 98: b'b', 99: b'c', 100: b'd', 101: b'e', 102: b'f', 103: b'g', 104: b'h', 105: b'i', 106: b'j', 107: b'k', 108: b'l', 109: b'm', 110: b'n', 111: b'o', 112: b'p', 113: b'q', 114: b'r', 115: b's', 116: b't', 117: b'u', 118: b'v', 119: b'w', 120: b'x', 121: b'y', 122: b'z', 123: b'{', 124: b'|', 125: b'}', 126: b'~', 127: b'\\x7f', 128: b'\\x80', 129: b'\\x81', 130: b'\\x82', 131: b'\\x83', 132: b'\\x84', 133: b'\\x85', 134: b'\\x86', 135: b'\\x87', 136: b'\\x88', 137: b'\\x89', 138: b'\\x8a', 139: b'\\x8b', 140: b'\\x8c', 141: b'\\x8d', 142: b'\\x8e', 143: b'\\x8f', 144: b'\\x90', 145: b'\\x91', 146: b'\\x92', 147: b'\\x93', 148: b'\\x94', 149: b'\\x95', 150: b'\\x96', 151: b'\\x97', 152: b'\\x98', 153: b'\\x99', 154: b'\\x9a', 155: b'\\x9b', 156: b'\\x9c', 157: b'\\x9d', 158: b'\\x9e', 159: b'\\x9f', 160: b'\\xa0', 161: b'\\xa1', 162: b'\\xa2', 163: b'\\xa3', 164: b'\\xa4', 165: b'\\xa5', 166: b'\\xa6', 167: b'\\xa7', 168: b'\\xa8', 169: b'\\xa9', 170: b'\\xaa', 171: b'\\xab', 172: b'\\xac', 173: b'\\xad', 174: b'\\xae', 175: b'\\xaf', 176: b'\\xb0', 177: b'\\xb1', 178: b'\\xb2', 179: b'\\xb3', 180: b'\\xb4', 181: b'\\xb5', 182: b'\\xb6', 183: b'\\xb7', 184: b'\\xb8', 185: b'\\xb9', 186: b'\\xba', 187: b'\\xbb', 188: b'\\xbc', 189: b'\\xbd', 190: b'\\xbe', 191: b'\\xbf', 192: b'\\xc0', 193: b'\\xc1', 194: b'\\xc2', 195: b'\\xc3', 196: b'\\xc4', 197: b'\\xc5', 198: b'\\xc6', 199: b'\\xc7', 200: b'\\xc8', 201: b'\\xc9', 202: b'\\xca', 203: b'\\xcb', 204: b'\\xcc', 205: b'\\xcd', 206: b'\\xce', 207: b'\\xcf', 208: b'\\xd0', 209: b'\\xd1', 210: b'\\xd2', 211: b'\\xd3', 212: b'\\xd4', 213: b'\\xd5', 214: b'\\xd6', 215: b'\\xd7', 216: b'\\xd8', 217: b'\\xd9', 218: b'\\xda', 219: b'\\xdb', 220: b'\\xdc', 221: b'\\xdd', 222: b'\\xde', 223: b'\\xdf', 224: b'\\xe0', 225: b'\\xe1', 226: b'\\xe2', 227: b'\\xe3', 228: b'\\xe4', 229: b'\\xe5', 230: b'\\xe6', 231: b'\\xe7', 232: b'\\xe8', 233: b'\\xe9', 234: b'\\xea', 235: b'\\xeb', 236: b'\\xec', 237: b'\\xed', 238: b'\\xee', 239: b'\\xef', 240: b'\\xf0', 241: b'\\xf1', 242: b'\\xf2', 243: b'\\xf3', 244: b'\\xf4', 245: b'\\xf5', 246: b'\\xf6', 247: b'\\xf7', 248: b'\\xf8', 249: b'\\xf9', 250: b'\\xfa', 251: b'\\xfb', 252: b'\\xfc', 253: b'\\xfd', 254: b'\\xfe', 255: b'\\xff', 256: b', ', 257: b'e ', 258: b'at', 259: b's ', 260: b'an', 261: b'nt', 262: b'ee', 263: b'ar', 264: b'io', 265: b'rat', 266: b' i', 267: b'li', 268: b'ion', 269: b'or', 270: b'ro', 271: b'OS', 272: b'de ', 273: b'nte', 274: b'nteg', 275: b'ntegrat'}\n",
            "<function decode at 0x7b8899f74540>\n"
          ]
        }
      ]
    },
    {
      "cell_type": "code",
      "source": [
        "def encode(text):\n",
        "  tokens = list(text.encode(\"utf-8\"))\n",
        "  while len(tokens) > 2:\n",
        "    stats = get_stats(tokens)\n",
        "    pair = min(stats,key=lambda p:merges.get(p,float(\"inf\")))\n",
        "    if pair not in merges:\n",
        "      break\n",
        "    idx = merges[pair]\n",
        "    tokens = merge(tokens,pair,idx)\n",
        "  return tokens"
      ],
      "metadata": {
        "id": "NznBAzVPV4ot"
      },
      "execution_count": 8,
      "outputs": []
    },
    {
      "cell_type": "code",
      "source": [
        "!wget https://openaipublic.blob.core.windows.net/gpt-2/models/1558m/vocab.bpe\n",
        "!wget https://openaipublic.blob.core.windows.net/gpt-2/models/1558m/encoder.json"
      ],
      "metadata": {
        "id": "HGo5lXdrX4n1",
        "colab": {
          "base_uri": "https://localhost:8080/"
        },
        "outputId": "56139549-6853-4441-e0e9-f91329bb2dbc"
      },
      "execution_count": 9,
      "outputs": [
        {
          "output_type": "stream",
          "name": "stdout",
          "text": [
            "--2025-01-30 16:06:59--  https://openaipublic.blob.core.windows.net/gpt-2/models/1558m/vocab.bpe\n",
            "Resolving openaipublic.blob.core.windows.net (openaipublic.blob.core.windows.net)... 57.150.97.129\n",
            "Connecting to openaipublic.blob.core.windows.net (openaipublic.blob.core.windows.net)|57.150.97.129|:443... connected.\n",
            "HTTP request sent, awaiting response... 404 The specified blob does not exist.\n",
            "2025-01-30 16:07:00 ERROR 404: The specified blob does not exist..\n",
            "\n",
            "--2025-01-30 16:07:00--  https://openaipublic.blob.core.windows.net/gpt-2/models/1558m/encoder.json\n",
            "Resolving openaipublic.blob.core.windows.net (openaipublic.blob.core.windows.net)... 57.150.97.129\n",
            "Connecting to openaipublic.blob.core.windows.net (openaipublic.blob.core.windows.net)|57.150.97.129|:443... connected.\n",
            "HTTP request sent, awaiting response... 404 The specified blob does not exist.\n",
            "2025-01-30 16:07:00 ERROR 404: The specified blob does not exist..\n",
            "\n"
          ]
        }
      ]
    },
    {
      "cell_type": "code",
      "source": [
        "import sentencepiece as spm"
      ],
      "metadata": {
        "id": "3t_LxHbD9zQQ"
      },
      "execution_count": 10,
      "outputs": []
    },
    {
      "cell_type": "code",
      "source": [
        "with open(\"toy.txt\",\"w\",encoding=\"utf-8\") as f:\n",
        "  f.write(text)"
      ],
      "metadata": {
        "id": "PfqzKHtVA7Nn"
      },
      "execution_count": 11,
      "outputs": []
    },
    {
      "cell_type": "code",
      "source": [
        "import os\n",
        "\n",
        "options = dict(\n",
        "  # input spec\n",
        "  input=\"toy.txt\",\n",
        "  input_format=\"text\",\n",
        "  # output spec\n",
        "  model_prefix=\"tok400\", # output filename prefix\n",
        "  # algorithm spec\n",
        "  # BPE alg\n",
        "  model_type=\"bpe\",\n",
        "  vocab_size=400,\n",
        "  # normalization\n",
        "  normalization_rule_name=\"identity\", # ew, turn off normalization\n",
        "  remove_extra_whitespaces=False,\n",
        "  input_sentence_size=200000000, # max number of training sentences\n",
        "  max_sentence_length=4192, # max number of bytes per sentence\n",
        "  seed_sentencepiece_size=1000000,\n",
        "  shuffle_input_sentence=True,\n",
        "  # rare word treatment\n",
        "  character_coverage=0.99995,\n",
        "  byte_fallback=True,\n",
        "  # merge rules\n",
        "  split_digits=True,\n",
        "  split_by_unicode_script=True,\n",
        "  split_by_whitespace=True,\n",
        "  split_by_number=True,\n",
        "  max_sentencepiece_length=16,\n",
        "  add_dummy_prefix=True,\n",
        "  allow_whitespace_only_pieces=True,\n",
        "  # special tokens\n",
        "  unk_id=0, # the UNK token MUST exist\n",
        "  bos_id=1, # the others are optional, set to -1 to turn off\n",
        "  eos_id=2,\n",
        "  pad_id=-1,\n",
        "  # systems\n",
        "  num_threads=os.cpu_count(), # use ~all system resources\n",
        ")\n",
        "\n",
        "spm.SentencePieceTrainer.train(**options)\n"
      ],
      "metadata": {
        "id": "k4B-dFOXBBHS"
      },
      "execution_count": 12,
      "outputs": []
    },
    {
      "cell_type": "code",
      "source": [
        "sp = spm.SentencePieceProcessor()\n",
        "sp.load('tok400.model')\n",
        "vocab = [[sp.id_to_piece(idx), idx] for idx in range(sp.get_piece_size())]\n",
        "vocab"
      ],
      "metadata": {
        "colab": {
          "base_uri": "https://localhost:8080/"
        },
        "id": "YWyRT57aB6Sh",
        "outputId": "da702b89-86ef-4538-e46a-f0b18006421a"
      },
      "execution_count": 13,
      "outputs": [
        {
          "output_type": "execute_result",
          "data": {
            "text/plain": [
              "[['<unk>', 0],\n",
              " ['<s>', 1],\n",
              " ['</s>', 2],\n",
              " ['<0x00>', 3],\n",
              " ['<0x01>', 4],\n",
              " ['<0x02>', 5],\n",
              " ['<0x03>', 6],\n",
              " ['<0x04>', 7],\n",
              " ['<0x05>', 8],\n",
              " ['<0x06>', 9],\n",
              " ['<0x07>', 10],\n",
              " ['<0x08>', 11],\n",
              " ['<0x09>', 12],\n",
              " ['<0x0A>', 13],\n",
              " ['<0x0B>', 14],\n",
              " ['<0x0C>', 15],\n",
              " ['<0x0D>', 16],\n",
              " ['<0x0E>', 17],\n",
              " ['<0x0F>', 18],\n",
              " ['<0x10>', 19],\n",
              " ['<0x11>', 20],\n",
              " ['<0x12>', 21],\n",
              " ['<0x13>', 22],\n",
              " ['<0x14>', 23],\n",
              " ['<0x15>', 24],\n",
              " ['<0x16>', 25],\n",
              " ['<0x17>', 26],\n",
              " ['<0x18>', 27],\n",
              " ['<0x19>', 28],\n",
              " ['<0x1A>', 29],\n",
              " ['<0x1B>', 30],\n",
              " ['<0x1C>', 31],\n",
              " ['<0x1D>', 32],\n",
              " ['<0x1E>', 33],\n",
              " ['<0x1F>', 34],\n",
              " ['<0x20>', 35],\n",
              " ['<0x21>', 36],\n",
              " ['<0x22>', 37],\n",
              " ['<0x23>', 38],\n",
              " ['<0x24>', 39],\n",
              " ['<0x25>', 40],\n",
              " ['<0x26>', 41],\n",
              " ['<0x27>', 42],\n",
              " ['<0x28>', 43],\n",
              " ['<0x29>', 44],\n",
              " ['<0x2A>', 45],\n",
              " ['<0x2B>', 46],\n",
              " ['<0x2C>', 47],\n",
              " ['<0x2D>', 48],\n",
              " ['<0x2E>', 49],\n",
              " ['<0x2F>', 50],\n",
              " ['<0x30>', 51],\n",
              " ['<0x31>', 52],\n",
              " ['<0x32>', 53],\n",
              " ['<0x33>', 54],\n",
              " ['<0x34>', 55],\n",
              " ['<0x35>', 56],\n",
              " ['<0x36>', 57],\n",
              " ['<0x37>', 58],\n",
              " ['<0x38>', 59],\n",
              " ['<0x39>', 60],\n",
              " ['<0x3A>', 61],\n",
              " ['<0x3B>', 62],\n",
              " ['<0x3C>', 63],\n",
              " ['<0x3D>', 64],\n",
              " ['<0x3E>', 65],\n",
              " ['<0x3F>', 66],\n",
              " ['<0x40>', 67],\n",
              " ['<0x41>', 68],\n",
              " ['<0x42>', 69],\n",
              " ['<0x43>', 70],\n",
              " ['<0x44>', 71],\n",
              " ['<0x45>', 72],\n",
              " ['<0x46>', 73],\n",
              " ['<0x47>', 74],\n",
              " ['<0x48>', 75],\n",
              " ['<0x49>', 76],\n",
              " ['<0x4A>', 77],\n",
              " ['<0x4B>', 78],\n",
              " ['<0x4C>', 79],\n",
              " ['<0x4D>', 80],\n",
              " ['<0x4E>', 81],\n",
              " ['<0x4F>', 82],\n",
              " ['<0x50>', 83],\n",
              " ['<0x51>', 84],\n",
              " ['<0x52>', 85],\n",
              " ['<0x53>', 86],\n",
              " ['<0x54>', 87],\n",
              " ['<0x55>', 88],\n",
              " ['<0x56>', 89],\n",
              " ['<0x57>', 90],\n",
              " ['<0x58>', 91],\n",
              " ['<0x59>', 92],\n",
              " ['<0x5A>', 93],\n",
              " ['<0x5B>', 94],\n",
              " ['<0x5C>', 95],\n",
              " ['<0x5D>', 96],\n",
              " ['<0x5E>', 97],\n",
              " ['<0x5F>', 98],\n",
              " ['<0x60>', 99],\n",
              " ['<0x61>', 100],\n",
              " ['<0x62>', 101],\n",
              " ['<0x63>', 102],\n",
              " ['<0x64>', 103],\n",
              " ['<0x65>', 104],\n",
              " ['<0x66>', 105],\n",
              " ['<0x67>', 106],\n",
              " ['<0x68>', 107],\n",
              " ['<0x69>', 108],\n",
              " ['<0x6A>', 109],\n",
              " ['<0x6B>', 110],\n",
              " ['<0x6C>', 111],\n",
              " ['<0x6D>', 112],\n",
              " ['<0x6E>', 113],\n",
              " ['<0x6F>', 114],\n",
              " ['<0x70>', 115],\n",
              " ['<0x71>', 116],\n",
              " ['<0x72>', 117],\n",
              " ['<0x73>', 118],\n",
              " ['<0x74>', 119],\n",
              " ['<0x75>', 120],\n",
              " ['<0x76>', 121],\n",
              " ['<0x77>', 122],\n",
              " ['<0x78>', 123],\n",
              " ['<0x79>', 124],\n",
              " ['<0x7A>', 125],\n",
              " ['<0x7B>', 126],\n",
              " ['<0x7C>', 127],\n",
              " ['<0x7D>', 128],\n",
              " ['<0x7E>', 129],\n",
              " ['<0x7F>', 130],\n",
              " ['<0x80>', 131],\n",
              " ['<0x81>', 132],\n",
              " ['<0x82>', 133],\n",
              " ['<0x83>', 134],\n",
              " ['<0x84>', 135],\n",
              " ['<0x85>', 136],\n",
              " ['<0x86>', 137],\n",
              " ['<0x87>', 138],\n",
              " ['<0x88>', 139],\n",
              " ['<0x89>', 140],\n",
              " ['<0x8A>', 141],\n",
              " ['<0x8B>', 142],\n",
              " ['<0x8C>', 143],\n",
              " ['<0x8D>', 144],\n",
              " ['<0x8E>', 145],\n",
              " ['<0x8F>', 146],\n",
              " ['<0x90>', 147],\n",
              " ['<0x91>', 148],\n",
              " ['<0x92>', 149],\n",
              " ['<0x93>', 150],\n",
              " ['<0x94>', 151],\n",
              " ['<0x95>', 152],\n",
              " ['<0x96>', 153],\n",
              " ['<0x97>', 154],\n",
              " ['<0x98>', 155],\n",
              " ['<0x99>', 156],\n",
              " ['<0x9A>', 157],\n",
              " ['<0x9B>', 158],\n",
              " ['<0x9C>', 159],\n",
              " ['<0x9D>', 160],\n",
              " ['<0x9E>', 161],\n",
              " ['<0x9F>', 162],\n",
              " ['<0xA0>', 163],\n",
              " ['<0xA1>', 164],\n",
              " ['<0xA2>', 165],\n",
              " ['<0xA3>', 166],\n",
              " ['<0xA4>', 167],\n",
              " ['<0xA5>', 168],\n",
              " ['<0xA6>', 169],\n",
              " ['<0xA7>', 170],\n",
              " ['<0xA8>', 171],\n",
              " ['<0xA9>', 172],\n",
              " ['<0xAA>', 173],\n",
              " ['<0xAB>', 174],\n",
              " ['<0xAC>', 175],\n",
              " ['<0xAD>', 176],\n",
              " ['<0xAE>', 177],\n",
              " ['<0xAF>', 178],\n",
              " ['<0xB0>', 179],\n",
              " ['<0xB1>', 180],\n",
              " ['<0xB2>', 181],\n",
              " ['<0xB3>', 182],\n",
              " ['<0xB4>', 183],\n",
              " ['<0xB5>', 184],\n",
              " ['<0xB6>', 185],\n",
              " ['<0xB7>', 186],\n",
              " ['<0xB8>', 187],\n",
              " ['<0xB9>', 188],\n",
              " ['<0xBA>', 189],\n",
              " ['<0xBB>', 190],\n",
              " ['<0xBC>', 191],\n",
              " ['<0xBD>', 192],\n",
              " ['<0xBE>', 193],\n",
              " ['<0xBF>', 194],\n",
              " ['<0xC0>', 195],\n",
              " ['<0xC1>', 196],\n",
              " ['<0xC2>', 197],\n",
              " ['<0xC3>', 198],\n",
              " ['<0xC4>', 199],\n",
              " ['<0xC5>', 200],\n",
              " ['<0xC6>', 201],\n",
              " ['<0xC7>', 202],\n",
              " ['<0xC8>', 203],\n",
              " ['<0xC9>', 204],\n",
              " ['<0xCA>', 205],\n",
              " ['<0xCB>', 206],\n",
              " ['<0xCC>', 207],\n",
              " ['<0xCD>', 208],\n",
              " ['<0xCE>', 209],\n",
              " ['<0xCF>', 210],\n",
              " ['<0xD0>', 211],\n",
              " ['<0xD1>', 212],\n",
              " ['<0xD2>', 213],\n",
              " ['<0xD3>', 214],\n",
              " ['<0xD4>', 215],\n",
              " ['<0xD5>', 216],\n",
              " ['<0xD6>', 217],\n",
              " ['<0xD7>', 218],\n",
              " ['<0xD8>', 219],\n",
              " ['<0xD9>', 220],\n",
              " ['<0xDA>', 221],\n",
              " ['<0xDB>', 222],\n",
              " ['<0xDC>', 223],\n",
              " ['<0xDD>', 224],\n",
              " ['<0xDE>', 225],\n",
              " ['<0xDF>', 226],\n",
              " ['<0xE0>', 227],\n",
              " ['<0xE1>', 228],\n",
              " ['<0xE2>', 229],\n",
              " ['<0xE3>', 230],\n",
              " ['<0xE4>', 231],\n",
              " ['<0xE5>', 232],\n",
              " ['<0xE6>', 233],\n",
              " ['<0xE7>', 234],\n",
              " ['<0xE8>', 235],\n",
              " ['<0xE9>', 236],\n",
              " ['<0xEA>', 237],\n",
              " ['<0xEB>', 238],\n",
              " ['<0xEC>', 239],\n",
              " ['<0xED>', 240],\n",
              " ['<0xEE>', 241],\n",
              " ['<0xEF>', 242],\n",
              " ['<0xF0>', 243],\n",
              " ['<0xF1>', 244],\n",
              " ['<0xF2>', 245],\n",
              " ['<0xF3>', 246],\n",
              " ['<0xF4>', 247],\n",
              " ['<0xF5>', 248],\n",
              " ['<0xF6>', 249],\n",
              " ['<0xF7>', 250],\n",
              " ['<0xF8>', 251],\n",
              " ['<0xF9>', 252],\n",
              " ['<0xFA>', 253],\n",
              " ['<0xFB>', 254],\n",
              " ['<0xFC>', 255],\n",
              " ['<0xFD>', 256],\n",
              " ['<0xFE>', 257],\n",
              " ['<0xFF>', 258],\n",
              " ['at', 259],\n",
              " ['an', 260],\n",
              " ['▁i', 261],\n",
              " ['ar', 262],\n",
              " ['ee', 263],\n",
              " ['io', 264],\n",
              " ['nt', 265],\n",
              " ['OS', 266],\n",
              " ['de', 267],\n",
              " ['er', 268],\n",
              " ['li', 269],\n",
              " ['or', 270],\n",
              " ['▁C', 271],\n",
              " ['▁a', 272],\n",
              " ['▁m', 273],\n",
              " ['▁s', 274],\n",
              " ['▁t', 275],\n",
              " ['ion', 276],\n",
              " ['▁an', 277],\n",
              " ['AP', 278],\n",
              " ['eg', 279],\n",
              " ['en', 280],\n",
              " ['he', 281],\n",
              " ['ib', 282],\n",
              " ['le', 283],\n",
              " ['nc', 284],\n",
              " ['op', 285],\n",
              " ['ot', 286],\n",
              " ['pS', 287],\n",
              " ['ro', 288],\n",
              " ['st', 289],\n",
              " ['ul', 290],\n",
              " ['▁D', 291],\n",
              " ['▁L', 292],\n",
              " ['▁P', 293],\n",
              " ['▁R', 294],\n",
              " ['▁T', 295],\n",
              " ['▁f', 296],\n",
              " ['▁p', 297],\n",
              " ['API', 298],\n",
              " ['eek', 299],\n",
              " ['egr', 300],\n",
              " ['hat', 301],\n",
              " ['lat', 302],\n",
              " ['▁to', 303],\n",
              " ['eepS', 304],\n",
              " ['▁API', 305],\n",
              " ['▁and', 306],\n",
              " ['▁int', 307],\n",
              " ['ation', 308],\n",
              " ['▁DeepS', 309],\n",
              " ['▁DeepSeek', 310],\n",
              " ['GP', 311],\n",
              " ['HP', 312],\n",
              " ['Ne', 313],\n",
              " ['Op', 314],\n",
              " ['Pa', 315],\n",
              " ['SS', 316],\n",
              " ['Si', 317],\n",
              " ['Un', 318],\n",
              " ['We', 319],\n",
              " ['Yu', 320],\n",
              " ['ac', 321],\n",
              " ['av', 322],\n",
              " ['ay', 323],\n",
              " ['ca', 324],\n",
              " ['ce', 325],\n",
              " ['ch', 326],\n",
              " ['co', 327],\n",
              " ['eC', 328],\n",
              " ['el', 329],\n",
              " ['em', 330],\n",
              " ['ey', 331],\n",
              " ['ft', 332],\n",
              " ['in', 333],\n",
              " ['ip', 334],\n",
              " ['ls', 335],\n",
              " ['lu', 336],\n",
              " ['mp', 337],\n",
              " ['pp', 338],\n",
              " ['ss', 339],\n",
              " ['ty', 340],\n",
              " ['us', 341],\n",
              " ['vi', 342],\n",
              " ['xt', 343],\n",
              " ['▁I', 344],\n",
              " ['▁Z', 345],\n",
              " ['▁k', 346],\n",
              " ['▁v', 347],\n",
              " ['GPT', 348],\n",
              " ['Pad', 349],\n",
              " ['Uni', 350],\n",
              " ['Web', 351],\n",
              " ['ali', 352],\n",
              " ['ans', 353],\n",
              " ['any', 354],\n",
              " ['are', 355],\n",
              " ['▁', 356],\n",
              " ['e', 357],\n",
              " ['a', 358],\n",
              " ['t', 359],\n",
              " ['o', 360],\n",
              " ['n', 361],\n",
              " ['i', 362],\n",
              " ['r', 363],\n",
              " ['s', 364],\n",
              " ['l', 365],\n",
              " [',', 366],\n",
              " ['p', 367],\n",
              " ['c', 368],\n",
              " ['S', 369],\n",
              " ['P', 370],\n",
              " ['h', 371],\n",
              " ['u', 372],\n",
              " ['d', 373],\n",
              " ['m', 374],\n",
              " ['y', 375],\n",
              " ['C', 376],\n",
              " ['O', 377],\n",
              " ['f', 378],\n",
              " ['.', 379],\n",
              " ['I', 380],\n",
              " ['T', 381],\n",
              " ['b', 382],\n",
              " ['g', 383],\n",
              " ['k', 384],\n",
              " ['v', 385],\n",
              " ['-', 386],\n",
              " ['A', 387],\n",
              " ['D', 388],\n",
              " ['L', 389],\n",
              " ['R', 390],\n",
              " ['G', 391],\n",
              " ['H', 392],\n",
              " ['N', 393],\n",
              " ['U', 394],\n",
              " ['W', 395],\n",
              " ['Y', 396],\n",
              " ['Z', 397],\n",
              " ['w', 398],\n",
              " ['x', 399]]"
            ]
          },
          "metadata": {},
          "execution_count": 13
        }
      ]
    },
    {
      "cell_type": "code",
      "source": [
        "ids = sp.encode(\"hello 안녕하세요\")\n"
      ],
      "metadata": {
        "id": "sAYe-TXMB78A"
      },
      "execution_count": 14,
      "outputs": []
    },
    {
      "cell_type": "code",
      "source": [
        "print(ids)"
      ],
      "metadata": {
        "colab": {
          "base_uri": "https://localhost:8080/"
        },
        "id": "W05wPcYKCDC6",
        "outputId": "fd67de5d-9d14-4620-fa80-a23cf6c86900"
      },
      "execution_count": 15,
      "outputs": [
        {
          "output_type": "stream",
          "name": "stdout",
          "text": [
            "[356, 281, 365, 365, 360, 356, 239, 152, 139, 238, 136, 152, 240, 152, 155, 239, 135, 187, 239, 157, 151]\n"
          ]
        }
      ]
    },
    {
      "cell_type": "code",
      "source": [
        "print([sp.id_to_piece(idx) for idx in ids])"
      ],
      "metadata": {
        "colab": {
          "base_uri": "https://localhost:8080/"
        },
        "id": "if1yMz7JCEVr",
        "outputId": "6259abfd-6365-46e1-b2f1-60f2a20cc6ec"
      },
      "execution_count": 16,
      "outputs": [
        {
          "output_type": "stream",
          "name": "stdout",
          "text": [
            "['▁', 'he', 'l', 'l', 'o', '▁', '<0xEC>', '<0x95>', '<0x88>', '<0xEB>', '<0x85>', '<0x95>', '<0xED>', '<0x95>', '<0x98>', '<0xEC>', '<0x84>', '<0xB8>', '<0xEC>', '<0x9A>', '<0x94>']\n"
          ]
        }
      ]
    },
    {
      "cell_type": "code",
      "source": [],
      "metadata": {
        "id": "ZJlGFn0XCFfW"
      },
      "execution_count": null,
      "outputs": []
    }
  ]
}
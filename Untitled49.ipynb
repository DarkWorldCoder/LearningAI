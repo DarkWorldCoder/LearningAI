{
  "nbformat": 4,
  "nbformat_minor": 0,
  "metadata": {
    "colab": {
      "provenance": [],
      "authorship_tag": "ABX9TyP74YQpNFNLw5nN1n5mg+6O",
      "include_colab_link": true
    },
    "kernelspec": {
      "name": "python3",
      "display_name": "Python 3"
    },
    "language_info": {
      "name": "python"
    }
  },
  "cells": [
    {
      "cell_type": "markdown",
      "metadata": {
        "id": "view-in-github",
        "colab_type": "text"
      },
      "source": [
        "<a href=\"https://colab.research.google.com/github/DarkWorldCoder/LearningAI/blob/master/Untitled49.ipynb\" target=\"_parent\"><img src=\"https://colab.research.google.com/assets/colab-badge.svg\" alt=\"Open In Colab\"/></a>"
      ]
    },
    {
      "cell_type": "code",
      "execution_count": 1,
      "metadata": {
        "id": "TQdUwXkqsstQ"
      },
      "outputs": [],
      "source": [
        "# importing all the required library\n",
        "import tensorflow as tf\n",
        "from tensorflow import keras\n",
        "from tensorflow.keras.preprocessing.text import Tokenizer"
      ]
    },
    {
      "cell_type": "code",
      "source": [
        "# declaring the array of sentences to tokenize\n",
        "\n",
        "sentences = [\n",
        "    \"Today is one of the day where sun kiss mountains\",\n",
        "    \"Having fun winter\"\n",
        "]\n",
        "\n",
        "# tokenizing using the tokenizer\n",
        "tokenizer = Tokenizer(num_words=100)\n",
        "tokenizer.fit_on_texts(sentences)\n",
        "word_index = tokenizer.word_index\n",
        "print(word_index)"
      ],
      "metadata": {
        "colab": {
          "base_uri": "https://localhost:8080/"
        },
        "id": "iQNlaAxstPtL",
        "outputId": "37ecd370-e163-4a7c-829d-f8822a38b738"
      },
      "execution_count": 2,
      "outputs": [
        {
          "output_type": "stream",
          "name": "stdout",
          "text": [
            "{'today': 1, 'is': 2, 'one': 3, 'of': 4, 'the': 5, 'day': 6, 'where': 7, 'sun': 8, 'kiss': 9, 'mountains': 10, 'having': 11, 'fun': 12, 'winter': 13}\n"
          ]
        }
      ]
    },
    {
      "cell_type": "code",
      "source": [
        "# texts to sequences helps you get the sequences of the sentences in an array of list\n",
        "\"\"\"\n",
        "Suppose we have list of strings\n",
        "eg: [\"today is a day\",\"what day is today\",\"nice to meet you\"]\n",
        "now with the help of function texts to sequences it will convert each words in string will be mapped individually\n",
        "suppose in eg:\n",
        "today=1,\n",
        "is=2,\n",
        "a=3,\n",
        "day=4\n",
        "now it will go to next\n",
        "what = 5\n",
        "day = 4 [\"Because It has already been mapped to 4\"]\n",
        "is = 2 [Same as above]\n",
        "today = 1[same as above]\n",
        "\n",
        "Third\n",
        "nice = 6 [As, 5 is last to the sequence]\n",
        "to = 7 [Same as above]\n",
        "meet = 8 [Same as above]\n",
        "you = 9 [Same as above]\n",
        "\"\"\"\n",
        "sequences = tokenizer.texts_to_sequences(sentences)\n",
        "sequences"
      ],
      "metadata": {
        "colab": {
          "base_uri": "https://localhost:8080/"
        },
        "id": "8ip8qjnatifJ",
        "outputId": "fd9c0850-3356-40a9-bb50-3878796ff699"
      },
      "execution_count": 5,
      "outputs": [
        {
          "output_type": "execute_result",
          "data": {
            "text/plain": [
              "[[1, 2, 3, 4, 5, 6, 7, 8, 9, 10], [11, 12, 13]]"
            ]
          },
          "metadata": {},
          "execution_count": 5
        }
      ]
    },
    {
      "cell_type": "code",
      "source": [
        "# OOV\n",
        "test_data = [\n",
        "    \"Today is a snowy day\",\n",
        "    \"Will it be rainy tomorrow?\"\n",
        "]\n",
        "test_sequences = tokenizer.texts_to_sequences(test_data)\n",
        "test_sequences"
      ],
      "metadata": {
        "colab": {
          "base_uri": "https://localhost:8080/"
        },
        "id": "ccKnqE9euOqn",
        "outputId": "4664bf2b-87f0-46ff-82d6-23df6bebef31"
      },
      "execution_count": 6,
      "outputs": [
        {
          "output_type": "execute_result",
          "data": {
            "text/plain": [
              "[[1, 2, 6], []]"
            ]
          },
          "metadata": {},
          "execution_count": 6
        }
      ]
    },
    {
      "cell_type": "code",
      "source": [
        "tokenizer = Tokenizer(num_words = 100,oov_token=\"<OOV>\")\n",
        "tokenizer.fit_on_texts(sentences)\n",
        "word_index = tokenizer.word_index\n",
        "print(word_index)"
      ],
      "metadata": {
        "colab": {
          "base_uri": "https://localhost:8080/"
        },
        "id": "dcmZH-U6vlKy",
        "outputId": "8bd3382a-c40f-4af1-aa67-bb2ea3c35e6d"
      },
      "execution_count": 7,
      "outputs": [
        {
          "output_type": "stream",
          "name": "stdout",
          "text": [
            "{'<OOV>': 1, 'today': 2, 'is': 3, 'one': 4, 'of': 5, 'the': 6, 'day': 7, 'where': 8, 'sun': 9, 'kiss': 10, 'mountains': 11, 'having': 12, 'fun': 13, 'winter': 14}\n"
          ]
        }
      ]
    },
    {
      "cell_type": "code",
      "source": [
        "# Padding a way of reshaping data into same shape\n",
        "sentences = [\n",
        "    \"Today is a sunny day\",\n",
        "    \"Today is a rainy day\",\n",
        "    \"Is it sunny today?\",\n",
        "    \"I really enjoyed walking in the snow today\"\n",
        "]"
      ],
      "metadata": {
        "id": "THWwjhp_v17Z"
      },
      "execution_count": 8,
      "outputs": []
    },
    {
      "cell_type": "code",
      "source": [
        "from tensorflow.keras.preprocessing.sequence import pad_sequences"
      ],
      "metadata": {
        "id": "kGcnE7MswPJj"
      },
      "execution_count": 9,
      "outputs": []
    },
    {
      "cell_type": "code",
      "source": [
        "padded = pad_sequences(sequences)"
      ],
      "metadata": {
        "id": "3n9x84niwTds"
      },
      "execution_count": 10,
      "outputs": []
    },
    {
      "cell_type": "code",
      "source": [
        "padded"
      ],
      "metadata": {
        "colab": {
          "base_uri": "https://localhost:8080/"
        },
        "id": "xyFfoVcEwWO_",
        "outputId": "8d851b42-40c1-4a2e-c49a-a8aea99b82e1"
      },
      "execution_count": 11,
      "outputs": [
        {
          "output_type": "execute_result",
          "data": {
            "text/plain": [
              "array([[ 1,  2,  3,  4,  5,  6,  7,  8,  9, 10],\n",
              "       [ 0,  0,  0,  0,  0,  0,  0, 11, 12, 13]], dtype=int32)"
            ]
          },
          "metadata": {},
          "execution_count": 11
        }
      ]
    },
    {
      "cell_type": "code",
      "source": [
        "padded =pad_sequences(sequences,padding=\"post\",maxlen=6)"
      ],
      "metadata": {
        "id": "vm5GFL1Twa7q"
      },
      "execution_count": 14,
      "outputs": []
    },
    {
      "cell_type": "code",
      "source": [
        "padded"
      ],
      "metadata": {
        "colab": {
          "base_uri": "https://localhost:8080/"
        },
        "id": "MfZEXdjvwXL4",
        "outputId": "dadbc9e8-193a-43c3-b8f8-05358adf495b"
      },
      "execution_count": 15,
      "outputs": [
        {
          "output_type": "execute_result",
          "data": {
            "text/plain": [
              "array([[ 5,  6,  7,  8,  9, 10],\n",
              "       [11, 12, 13,  0,  0,  0]], dtype=int32)"
            ]
          },
          "metadata": {},
          "execution_count": 15
        }
      ]
    },
    {
      "cell_type": "code",
      "source": [],
      "metadata": {
        "id": "uMl0meW9wiQS"
      },
      "execution_count": null,
      "outputs": []
    }
  ]
}
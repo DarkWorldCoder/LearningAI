{
 "cells": [
  {
   "cell_type": "markdown",
   "id": "a5a4990b",
   "metadata": {},
   "source": [
    "# Introduction to tensorflow\n"
   ]
  },
  {
   "cell_type": "code",
   "execution_count": null,
   "id": "c36b8ca8",
   "metadata": {},
   "outputs": [],
   "source": [
    "pip install tensorflow"
   ]
  },
  {
   "cell_type": "code",
   "execution_count": null,
   "id": "cfc33c7e",
   "metadata": {},
   "outputs": [],
   "source": [
    "# importing tensorflow\n",
    "\n",
    "import tensorflow as tf\n",
    "\n",
    "print(tf.__version__)"
   ]
  },
  {
   "cell_type": "code",
   "execution_count": null,
   "id": "0b005561",
   "metadata": {},
   "outputs": [],
   "source": [
    "#creating tensors with tf.constants()\n",
    "\n",
    "scalar = tf.constant(7)\n",
    "scalar"
   ]
  },
  {
   "cell_type": "code",
   "execution_count": null,
   "id": "9e783126",
   "metadata": {},
   "outputs": [],
   "source": [
    "# checking the number of dimensions of aa tensor (ndim stands form number of dimensions)\n",
    "\n",
    "scalar.ndim"
   ]
  },
  {
   "cell_type": "code",
   "execution_count": null,
   "id": "b1d59208",
   "metadata": {},
   "outputs": [],
   "source": [
    "vector = tf.constant([10,10])\n",
    "vector"
   ]
  },
  {
   "cell_type": "code",
   "execution_count": null,
   "id": "7ecd2876",
   "metadata": {},
   "outputs": [],
   "source": [
    "# check the dimesnion of our vector\n",
    "\n",
    "vector.ndim"
   ]
  },
  {
   "cell_type": "code",
   "execution_count": null,
   "id": "d5a88d69",
   "metadata": {},
   "outputs": [],
   "source": [
    "matrix = tf.constant([[10,20],[20,30]])\n",
    "matrix"
   ]
  },
  {
   "cell_type": "code",
   "execution_count": null,
   "id": "7e123b41",
   "metadata": {},
   "outputs": [],
   "source": [
    "matrix.ndim"
   ]
  },
  {
   "cell_type": "code",
   "execution_count": null,
   "id": "23a324dd",
   "metadata": {},
   "outputs": [],
   "source": [
    "# create another matrix\n",
    "\n",
    "another_matrix = tf.constant([[10,20],[20,30],[50,30]],dtype=tf.float16)\n",
    "another_matrix"
   ]
  },
  {
   "cell_type": "code",
   "execution_count": null,
   "id": "8c6fb8a6",
   "metadata": {},
   "outputs": [],
   "source": [
    "another_matrix.ndim\n"
   ]
  },
  {
   "cell_type": "code",
   "execution_count": null,
   "id": "b2f8d8f7",
   "metadata": {},
   "outputs": [],
   "source": [
    "# creating tensor\n",
    "\n",
    "tensor = tf.constant([[[1,2,3],[4,5,6]],\n",
    "                     [[10,100,20],[2,4,6]],\n",
    "                      [[12,4,5],[5,34,70]]\n",
    "                     ])\n",
    "tensor"
   ]
  },
  {
   "cell_type": "code",
   "execution_count": null,
   "id": "08896043",
   "metadata": {},
   "outputs": [],
   "source": [
    "tensor.ndim\n"
   ]
  },
  {
   "cell_type": "markdown",
   "id": "6ebd3881",
   "metadata": {},
   "source": [
    "# what we have created\n",
    "\n",
    "* Scalar: a single number\n",
    "* Vector : a number with direction\n",
    "* Matrix :  2-d dimensional array of number\n",
    "* Tensor : an n-dimensional array of numbers(when n can be number , a 0-dimensional tensor is a scalar,a 1-dimensional tensor is a vector)\n",
    "    "
   ]
  },
  {
   "cell_type": "markdown",
   "id": "bf681f35",
   "metadata": {},
   "source": [
    "## Creating tensors with variables "
   ]
  },
  {
   "cell_type": "code",
   "execution_count": null,
   "id": "a1957bec",
   "metadata": {},
   "outputs": [],
   "source": [
    "# create the same tensor with tf.variable()\n",
    "\n",
    "changable_tensor = tf.Variable([10,7])\n",
    "unchangable_tensor = tf.constant([10,7])\n",
    "\n",
    "changable_tensor,unchangable_tensor\n"
   ]
  },
  {
   "cell_type": "code",
   "execution_count": null,
   "id": "c82c7639",
   "metadata": {},
   "outputs": [],
   "source": [
    "changable_tensor[0].assign(7)\n",
    "changable_tensor\n",
    " "
   ]
  },
  {
   "cell_type": "markdown",
   "id": "511bc66d",
   "metadata": {},
   "source": [
    "# Creating random tensors\n",
    "\n",
    "Random tensors  are tensors of some arbituary numbers"
   ]
  },
  {
   "cell_type": "code",
   "execution_count": null,
   "id": "2d890dbf",
   "metadata": {},
   "outputs": [],
   "source": [
    "# creating random tensors\n",
    "\n",
    "random_1 = tf.random.Generator.from_seed(42)\n",
    "random_1 = random_1.normal(shape=(3,2))\n",
    "\n",
    "random_2 = tf.random.Generator.from_seed(42)\n",
    "random_2 = random_2.normal(shape=(3,2))\n",
    "random_1,random_2"
   ]
  },
  {
   "cell_type": "code",
   "execution_count": null,
   "id": "9e5375bd",
   "metadata": {},
   "outputs": [],
   "source": [
    "# shuffle a tensor \n",
    "\n",
    "not_shuffled = tf.constant([[10,7],[20,20],[20,23]])\n",
    "\n",
    "#shuffle non shuffle data\n",
    "tf.random.shuffle(not_shuffled)\n"
   ]
  },
  {
   "cell_type": "code",
   "execution_count": null,
   "id": "60b9ea67",
   "metadata": {},
   "outputs": [],
   "source": [
    "# Practicing 5 random tf seeds\n",
    "\n",
    "value_1 = tf.Variable([[1,2,3],[2,3,4],[2,34,33]])\n",
    "\n",
    "tf.random.set_seed(12)\n",
    "tf.random.shuffle(value_1,seed=10)"
   ]
  },
  {
   "cell_type": "code",
   "execution_count": null,
   "id": "eab436c3",
   "metadata": {},
   "outputs": [],
   "source": [
    "value_2 = tf.constant([[[1,2,3],[2,3,5]],\n",
    "                      [[1,2,34],[3,5,6]],\n",
    "                       [[2,3,5],[2,3,5]]\n",
    "                      ])\n",
    "\n",
    "# tf.random.set_seed(100)\n",
    "tf.random.shuffle(value_2,seed=11)"
   ]
  },
  {
   "cell_type": "markdown",
   "id": "073f5df3",
   "metadata": {},
   "source": [
    "# Crash course on numpy"
   ]
  },
  {
   "cell_type": "code",
   "execution_count": null,
   "id": "9b0dc081",
   "metadata": {},
   "outputs": [],
   "source": [
    "import numpy as np "
   ]
  },
  {
   "cell_type": "code",
   "execution_count": null,
   "id": "c1b8d44d",
   "metadata": {},
   "outputs": [],
   "source": [
    "a = np.array([1,2,3])\n",
    "a"
   ]
  },
  {
   "cell_type": "code",
   "execution_count": null,
   "id": "939655b1",
   "metadata": {},
   "outputs": [],
   "source": [
    "a.shape\n"
   ]
  },
  {
   "cell_type": "code",
   "execution_count": null,
   "id": "24ac4c98",
   "metadata": {},
   "outputs": [],
   "source": [
    "a.dtype"
   ]
  },
  {
   "cell_type": "code",
   "execution_count": null,
   "id": "cab14efc",
   "metadata": {},
   "outputs": [],
   "source": [
    "a.itemsize"
   ]
  },
  {
   "cell_type": "markdown",
   "id": "e58128ed",
   "metadata": {},
   "source": [
    "# other ways to make tensors\n"
   ]
  },
  {
   "cell_type": "code",
   "execution_count": null,
   "id": "f6499b0a",
   "metadata": {},
   "outputs": [],
   "source": [
    "tf.ones([10,7])"
   ]
  },
  {
   "cell_type": "code",
   "execution_count": null,
   "id": "07f52154",
   "metadata": {},
   "outputs": [],
   "source": [
    "# creating tensor of all zeros\n",
    "\n",
    "tf.zeros(shape=(3,4))"
   ]
  },
  {
   "cell_type": "markdown",
   "id": "e6664724",
   "metadata": {},
   "source": [
    "## Turning numpy array into tensors\n",
    "The main difference between numpy array and tensors is that tensors can be run on GPU\n"
   ]
  },
  {
   "cell_type": "code",
   "execution_count": null,
   "id": "a8a5706c",
   "metadata": {},
   "outputs": [],
   "source": [
    "# TUrning into tensors\n",
    "\n",
    "import numpy as np\n",
    "\n",
    "numpy_A = np.arange(1,25,dtype=np.int32)\n",
    "\n",
    "numpy_A\n",
    "# X = tf.constant(s)"
   ]
  },
  {
   "cell_type": "code",
   "execution_count": null,
   "id": "14a5a902",
   "metadata": {},
   "outputs": [],
   "source": [
    "A = tf.constant(numpy_A,shape=(2,3,4))\n",
    "A"
   ]
  },
  {
   "cell_type": "code",
   "execution_count": null,
   "id": "3933fa8b",
   "metadata": {},
   "outputs": [],
   "source": [
    "A.ndim"
   ]
  },
  {
   "cell_type": "code",
   "execution_count": null,
   "id": "5e2601cc",
   "metadata": {},
   "outputs": [],
   "source": [
    "tf.random.shuffle(A,seed=10)\n",
    "A"
   ]
  },
  {
   "cell_type": "markdown",
   "id": "1f015a5d",
   "metadata": {},
   "source": [
    "# Getting information from tensors\n",
    "\n",
    "When dealing with tensors you probably want to be aware of the following \n",
    "\n",
    "* Shape\n",
    "* Rank \n",
    "* Axis or Dimension\n",
    "* Sizw"
   ]
  },
  {
   "cell_type": "code",
   "execution_count": null,
   "id": "c169dd3e",
   "metadata": {},
   "outputs": [],
   "source": [
    "# Create a rank 4 tensors \n",
    "\n",
    "rank_4_tensors = tf.zeros(shape=[2,3,4,5])\n",
    "\n",
    "rank_4_tensors"
   ]
  },
  {
   "cell_type": "code",
   "execution_count": null,
   "id": "f39f86f6",
   "metadata": {},
   "outputs": [],
   "source": [
    "rank_4_tensors[0]"
   ]
  },
  {
   "cell_type": "code",
   "execution_count": null,
   "id": "fc42d5b5",
   "metadata": {},
   "outputs": [],
   "source": [
    "rank_4_tensors.shape, rank_4_tensors.ndim,tf.size(rank_4_tensors)\n"
   ]
  },
  {
   "cell_type": "code",
   "execution_count": null,
   "id": "2eb7c6bd",
   "metadata": {},
   "outputs": [],
   "source": [
    "#  Get various attributes of our tensor\n",
    "\n",
    "print(\"Data type of every elements:\", rank_4_tensors.dtype)\n",
    "print(\"Number of dimensions (rank):\", rank_4_tensors.ndim)\n",
    "print(\"SHape of tensor\", rank_4_tensors.shape)\n",
    "print(\"Elements along the 0 axis: \", rank_4_tensors.shape[0])\n",
    "print(\"Elements along the last axis:\", rank_4_tensors.shape[-1])\n"
   ]
  },
  {
   "cell_type": "markdown",
   "id": "908dccfc",
   "metadata": {},
   "source": [
    "# Indexing tensors\n",
    "\n",
    "Tensors can be indexed like python lists"
   ]
  },
  {
   "cell_type": "code",
   "execution_count": null,
   "id": "b2312b5a",
   "metadata": {},
   "outputs": [],
   "source": [
    "# Get the first 2 element of each dimensions\n",
    "\n",
    "rank_4_tensors[:2,:3,:4,:5]"
   ]
  },
  {
   "cell_type": "code",
   "execution_count": null,
   "id": "49d1f84f",
   "metadata": {},
   "outputs": [],
   "source": [
    "#  Get the first element from each dimension from each index expcept for the final one\n",
    "\n",
    "rank_4_tensors[:1,:1,:,:1]"
   ]
  },
  {
   "cell_type": "code",
   "execution_count": null,
   "id": "db14ff3c",
   "metadata": {},
   "outputs": [],
   "source": [
    "rank_2_tensor = tf.constant([[10,7],[2,2]])\n",
    "rank_2_tensor"
   ]
  },
  {
   "cell_type": "code",
   "execution_count": null,
   "id": "ee286a39",
   "metadata": {},
   "outputs": [],
   "source": [
    "# get the last item of each of row of our rank 2 tensor\n",
    "\n",
    "rank_2_tensor[:-1]"
   ]
  },
  {
   "cell_type": "code",
   "execution_count": null,
   "id": "4c405496",
   "metadata": {},
   "outputs": [],
   "source": [
    "#  Adding in extra dimension to our rank 2 tensor\n",
    "\n",
    "rank_3_tensor = rank_2_tensor[...,tf.newaxis]\n",
    "rank_3_tensor"
   ]
  },
  {
   "cell_type": "code",
   "execution_count": null,
   "id": "9d185c98",
   "metadata": {},
   "outputs": [],
   "source": [
    "#  Alternative to tf.newaxis\n",
    "\n",
    "tf.expand_dims(rank_2_tensor,axis=1)\n"
   ]
  }
 ],
 "metadata": {
  "kernelspec": {
   "display_name": "Python 3 (ipykernel)",
   "language": "python",
   "name": "python3"
  },
  "language_info": {
   "codemirror_mode": {
    "name": "ipython",
    "version": 3
   },
   "file_extension": ".py",
   "mimetype": "text/x-python",
   "name": "python",
   "nbconvert_exporter": "python",
   "pygments_lexer": "ipython3",
   "version": "3.9.13"
  }
 },
 "nbformat": 4,
 "nbformat_minor": 5
}

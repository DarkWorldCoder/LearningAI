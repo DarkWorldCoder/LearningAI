{
 "cells": [
  {
   "cell_type": "markdown",
   "id": "a5a4990b",
   "metadata": {},
   "source": [
    "# Introduction to tensorflow\n"
   ]
  },
  {
   "cell_type": "code",
   "execution_count": 1,
   "id": "c36b8ca8",
   "metadata": {},
   "outputs": [
    {
     "name": "stdout",
     "output_type": "stream",
     "text": [
      "Requirement already satisfied: tensorflow in c:\\users\\ayush\\anaconda3\\lib\\site-packages (2.12.0)\n",
      "Requirement already satisfied: tensorflow-intel==2.12.0 in c:\\users\\ayush\\anaconda3\\lib\\site-packages (from tensorflow) (2.12.0)\n",
      "Requirement already satisfied: flatbuffers>=2.0 in c:\\users\\ayush\\anaconda3\\lib\\site-packages (from tensorflow-intel==2.12.0->tensorflow) (23.3.3)\n",
      "Requirement already satisfied: keras<2.13,>=2.12.0 in c:\\users\\ayush\\anaconda3\\lib\\site-packages (from tensorflow-intel==2.12.0->tensorflow) (2.12.0)\n",
      "Requirement already satisfied: numpy<1.24,>=1.22 in c:\\users\\ayush\\anaconda3\\lib\\site-packages (from tensorflow-intel==2.12.0->tensorflow) (1.23.5)\n",
      "Requirement already satisfied: h5py>=2.9.0 in c:\\users\\ayush\\anaconda3\\lib\\site-packages (from tensorflow-intel==2.12.0->tensorflow) (3.7.0)\n",
      "Requirement already satisfied: packaging in c:\\users\\ayush\\anaconda3\\lib\\site-packages (from tensorflow-intel==2.12.0->tensorflow) (21.3)\n",
      "Requirement already satisfied: libclang>=13.0.0 in c:\\users\\ayush\\anaconda3\\lib\\site-packages (from tensorflow-intel==2.12.0->tensorflow) (16.0.0)\n",
      "Requirement already satisfied: wrapt<1.15,>=1.11.0 in c:\\users\\ayush\\anaconda3\\lib\\site-packages (from tensorflow-intel==2.12.0->tensorflow) (1.14.1)\n",
      "Requirement already satisfied: jax>=0.3.15 in c:\\users\\ayush\\anaconda3\\lib\\site-packages (from tensorflow-intel==2.12.0->tensorflow) (0.4.8)\n",
      "Requirement already satisfied: tensorflow-io-gcs-filesystem>=0.23.1 in c:\\users\\ayush\\anaconda3\\lib\\site-packages (from tensorflow-intel==2.12.0->tensorflow) (0.31.0)\n",
      "Requirement already satisfied: protobuf!=4.21.0,!=4.21.1,!=4.21.2,!=4.21.3,!=4.21.4,!=4.21.5,<5.0.0dev,>=3.20.3 in c:\\users\\ayush\\anaconda3\\lib\\site-packages (from tensorflow-intel==2.12.0->tensorflow) (4.22.1)\n",
      "Requirement already satisfied: astunparse>=1.6.0 in c:\\users\\ayush\\anaconda3\\lib\\site-packages (from tensorflow-intel==2.12.0->tensorflow) (1.6.3)\n",
      "Requirement already satisfied: gast<=0.4.0,>=0.2.1 in c:\\users\\ayush\\anaconda3\\lib\\site-packages (from tensorflow-intel==2.12.0->tensorflow) (0.4.0)\n",
      "Requirement already satisfied: setuptools in c:\\users\\ayush\\anaconda3\\lib\\site-packages (from tensorflow-intel==2.12.0->tensorflow) (63.4.1)\n",
      "Requirement already satisfied: absl-py>=1.0.0 in c:\\users\\ayush\\anaconda3\\lib\\site-packages (from tensorflow-intel==2.12.0->tensorflow) (1.4.0)\n",
      "Requirement already satisfied: six>=1.12.0 in c:\\users\\ayush\\anaconda3\\lib\\site-packages (from tensorflow-intel==2.12.0->tensorflow) (1.16.0)\n",
      "Requirement already satisfied: tensorboard<2.13,>=2.12 in c:\\users\\ayush\\anaconda3\\lib\\site-packages (from tensorflow-intel==2.12.0->tensorflow) (2.12.1)\n",
      "Requirement already satisfied: termcolor>=1.1.0 in c:\\users\\ayush\\anaconda3\\lib\\site-packages (from tensorflow-intel==2.12.0->tensorflow) (2.2.0)\n",
      "Requirement already satisfied: opt-einsum>=2.3.2 in c:\\users\\ayush\\anaconda3\\lib\\site-packages (from tensorflow-intel==2.12.0->tensorflow) (3.3.0)\n",
      "Requirement already satisfied: google-pasta>=0.1.1 in c:\\users\\ayush\\anaconda3\\lib\\site-packages (from tensorflow-intel==2.12.0->tensorflow) (0.2.0)\n",
      "Requirement already satisfied: grpcio<2.0,>=1.24.3 in c:\\users\\ayush\\anaconda3\\lib\\site-packages (from tensorflow-intel==2.12.0->tensorflow) (1.53.0)\n",
      "Requirement already satisfied: tensorflow-estimator<2.13,>=2.12.0 in c:\\users\\ayush\\anaconda3\\lib\\site-packages (from tensorflow-intel==2.12.0->tensorflow) (2.12.0)\n",
      "Requirement already satisfied: typing-extensions>=3.6.6 in c:\\users\\ayush\\anaconda3\\lib\\site-packages (from tensorflow-intel==2.12.0->tensorflow) (4.3.0)\n",
      "Requirement already satisfied: wheel<1.0,>=0.23.0 in c:\\users\\ayush\\anaconda3\\lib\\site-packages (from astunparse>=1.6.0->tensorflow-intel==2.12.0->tensorflow) (0.37.1)\n",
      "Requirement already satisfied: ml-dtypes>=0.0.3 in c:\\users\\ayush\\anaconda3\\lib\\site-packages (from jax>=0.3.15->tensorflow-intel==2.12.0->tensorflow) (0.0.4)\n",
      "Requirement already satisfied: scipy>=1.7 in c:\\users\\ayush\\anaconda3\\lib\\site-packages (from jax>=0.3.15->tensorflow-intel==2.12.0->tensorflow) (1.9.1)\n",
      "Requirement already satisfied: tensorboard-plugin-wit>=1.6.0 in c:\\users\\ayush\\anaconda3\\lib\\site-packages (from tensorboard<2.13,>=2.12->tensorflow-intel==2.12.0->tensorflow) (1.8.1)\n",
      "Requirement already satisfied: requests<3,>=2.21.0 in c:\\users\\ayush\\anaconda3\\lib\\site-packages (from tensorboard<2.13,>=2.12->tensorflow-intel==2.12.0->tensorflow) (2.28.1)\n",
      "Requirement already satisfied: google-auth<3,>=1.6.3 in c:\\users\\ayush\\anaconda3\\lib\\site-packages (from tensorboard<2.13,>=2.12->tensorflow-intel==2.12.0->tensorflow) (2.17.1)\n",
      "Requirement already satisfied: tensorboard-data-server<0.8.0,>=0.7.0 in c:\\users\\ayush\\anaconda3\\lib\\site-packages (from tensorboard<2.13,>=2.12->tensorflow-intel==2.12.0->tensorflow) (0.7.0)\n",
      "Requirement already satisfied: werkzeug>=1.0.1 in c:\\users\\ayush\\anaconda3\\lib\\site-packages (from tensorboard<2.13,>=2.12->tensorflow-intel==2.12.0->tensorflow) (2.0.3)\n",
      "Requirement already satisfied: google-auth-oauthlib<1.1,>=0.5 in c:\\users\\ayush\\anaconda3\\lib\\site-packages (from tensorboard<2.13,>=2.12->tensorflow-intel==2.12.0->tensorflow) (1.0.0)\n",
      "Requirement already satisfied: markdown>=2.6.8 in c:\\users\\ayush\\anaconda3\\lib\\site-packages (from tensorboard<2.13,>=2.12->tensorflow-intel==2.12.0->tensorflow) (3.3.4)\n",
      "Requirement already satisfied: pyparsing!=3.0.5,>=2.0.2 in c:\\users\\ayush\\anaconda3\\lib\\site-packages (from packaging->tensorflow-intel==2.12.0->tensorflow) (3.0.9)\n",
      "Requirement already satisfied: cachetools<6.0,>=2.0.0 in c:\\users\\ayush\\anaconda3\\lib\\site-packages (from google-auth<3,>=1.6.3->tensorboard<2.13,>=2.12->tensorflow-intel==2.12.0->tensorflow) (5.3.0)\n",
      "Requirement already satisfied: pyasn1-modules>=0.2.1 in c:\\users\\ayush\\anaconda3\\lib\\site-packages (from google-auth<3,>=1.6.3->tensorboard<2.13,>=2.12->tensorflow-intel==2.12.0->tensorflow) (0.2.8)\n",
      "Requirement already satisfied: rsa<5,>=3.1.4 in c:\\users\\ayush\\anaconda3\\lib\\site-packages (from google-auth<3,>=1.6.3->tensorboard<2.13,>=2.12->tensorflow-intel==2.12.0->tensorflow) (4.9)\n",
      "Requirement already satisfied: requests-oauthlib>=0.7.0 in c:\\users\\ayush\\anaconda3\\lib\\site-packages (from google-auth-oauthlib<1.1,>=0.5->tensorboard<2.13,>=2.12->tensorflow-intel==2.12.0->tensorflow) (1.3.1)\n",
      "Requirement already satisfied: charset-normalizer<3,>=2 in c:\\users\\ayush\\anaconda3\\lib\\site-packages (from requests<3,>=2.21.0->tensorboard<2.13,>=2.12->tensorflow-intel==2.12.0->tensorflow) (2.0.4)\n",
      "Requirement already satisfied: idna<4,>=2.5 in c:\\users\\ayush\\anaconda3\\lib\\site-packages (from requests<3,>=2.21.0->tensorboard<2.13,>=2.12->tensorflow-intel==2.12.0->tensorflow) (3.3)\n",
      "Requirement already satisfied: urllib3<1.27,>=1.21.1 in c:\\users\\ayush\\anaconda3\\lib\\site-packages (from requests<3,>=2.21.0->tensorboard<2.13,>=2.12->tensorflow-intel==2.12.0->tensorflow) (1.26.11)\n",
      "Requirement already satisfied: certifi>=2017.4.17 in c:\\users\\ayush\\anaconda3\\lib\\site-packages (from requests<3,>=2.21.0->tensorboard<2.13,>=2.12->tensorflow-intel==2.12.0->tensorflow) (2022.9.14)\n",
      "Requirement already satisfied: pyasn1<0.5.0,>=0.4.6 in c:\\users\\ayush\\anaconda3\\lib\\site-packages (from pyasn1-modules>=0.2.1->google-auth<3,>=1.6.3->tensorboard<2.13,>=2.12->tensorflow-intel==2.12.0->tensorflow) (0.4.8)\n",
      "Requirement already satisfied: oauthlib>=3.0.0 in c:\\users\\ayush\\anaconda3\\lib\\site-packages (from requests-oauthlib>=0.7.0->google-auth-oauthlib<1.1,>=0.5->tensorboard<2.13,>=2.12->tensorflow-intel==2.12.0->tensorflow) (3.2.2)\n",
      "Note: you may need to restart the kernel to use updated packages.\n"
     ]
    }
   ],
   "source": [
    "pip install tensorflow"
   ]
  },
  {
   "cell_type": "code",
   "execution_count": 2,
   "id": "cfc33c7e",
   "metadata": {},
   "outputs": [
    {
     "name": "stdout",
     "output_type": "stream",
     "text": [
      "2.12.0\n"
     ]
    }
   ],
   "source": [
    "# importing tensorflow\n",
    "\n",
    "import tensorflow as tf\n",
    "\n",
    "print(tf.__version__)"
   ]
  },
  {
   "cell_type": "code",
   "execution_count": 3,
   "id": "0b005561",
   "metadata": {},
   "outputs": [
    {
     "data": {
      "text/plain": [
       "<tf.Tensor: shape=(), dtype=int32, numpy=7>"
      ]
     },
     "execution_count": 3,
     "metadata": {},
     "output_type": "execute_result"
    }
   ],
   "source": [
    "#creating tensors with tf.constants()\n",
    "\n",
    "scalar = tf.constant(7)\n",
    "scalar"
   ]
  },
  {
   "cell_type": "code",
   "execution_count": 4,
   "id": "9e783126",
   "metadata": {},
   "outputs": [
    {
     "data": {
      "text/plain": [
       "0"
      ]
     },
     "execution_count": 4,
     "metadata": {},
     "output_type": "execute_result"
    }
   ],
   "source": [
    "# checking the number of dimensions of aa tensor (ndim stands form number of dimensions)\n",
    "\n",
    "scalar.ndim"
   ]
  },
  {
   "cell_type": "code",
   "execution_count": 5,
   "id": "b1d59208",
   "metadata": {},
   "outputs": [
    {
     "data": {
      "text/plain": [
       "<tf.Tensor: shape=(2,), dtype=int32, numpy=array([10, 10])>"
      ]
     },
     "execution_count": 5,
     "metadata": {},
     "output_type": "execute_result"
    }
   ],
   "source": [
    "vector = tf.constant([10,10])\n",
    "vector"
   ]
  },
  {
   "cell_type": "code",
   "execution_count": 6,
   "id": "7ecd2876",
   "metadata": {},
   "outputs": [
    {
     "data": {
      "text/plain": [
       "1"
      ]
     },
     "execution_count": 6,
     "metadata": {},
     "output_type": "execute_result"
    }
   ],
   "source": [
    "# check the dimesnion of our vector\n",
    "\n",
    "vector.ndim"
   ]
  },
  {
   "cell_type": "code",
   "execution_count": 7,
   "id": "d5a88d69",
   "metadata": {},
   "outputs": [
    {
     "data": {
      "text/plain": [
       "<tf.Tensor: shape=(2, 2), dtype=int32, numpy=\n",
       "array([[10, 20],\n",
       "       [20, 30]])>"
      ]
     },
     "execution_count": 7,
     "metadata": {},
     "output_type": "execute_result"
    }
   ],
   "source": [
    "matrix = tf.constant([[10,20],[20,30]])\n",
    "matrix"
   ]
  },
  {
   "cell_type": "code",
   "execution_count": 8,
   "id": "7e123b41",
   "metadata": {},
   "outputs": [
    {
     "data": {
      "text/plain": [
       "2"
      ]
     },
     "execution_count": 8,
     "metadata": {},
     "output_type": "execute_result"
    }
   ],
   "source": [
    "matrix.ndim"
   ]
  },
  {
   "cell_type": "code",
   "execution_count": 9,
   "id": "23a324dd",
   "metadata": {},
   "outputs": [
    {
     "data": {
      "text/plain": [
       "<tf.Tensor: shape=(3, 2), dtype=float16, numpy=\n",
       "array([[10., 20.],\n",
       "       [20., 30.],\n",
       "       [50., 30.]], dtype=float16)>"
      ]
     },
     "execution_count": 9,
     "metadata": {},
     "output_type": "execute_result"
    }
   ],
   "source": [
    "# create another matrix\n",
    "\n",
    "another_matrix = tf.constant([[10,20],[20,30],[50,30]],dtype=tf.float16)\n",
    "another_matrix"
   ]
  },
  {
   "cell_type": "code",
   "execution_count": 10,
   "id": "8c6fb8a6",
   "metadata": {},
   "outputs": [
    {
     "data": {
      "text/plain": [
       "2"
      ]
     },
     "execution_count": 10,
     "metadata": {},
     "output_type": "execute_result"
    }
   ],
   "source": [
    "another_matrix.ndim\n"
   ]
  },
  {
   "cell_type": "code",
   "execution_count": 11,
   "id": "b2f8d8f7",
   "metadata": {},
   "outputs": [
    {
     "data": {
      "text/plain": [
       "<tf.Tensor: shape=(3, 2, 3), dtype=int32, numpy=\n",
       "array([[[  1,   2,   3],\n",
       "        [  4,   5,   6]],\n",
       "\n",
       "       [[ 10, 100,  20],\n",
       "        [  2,   4,   6]],\n",
       "\n",
       "       [[ 12,   4,   5],\n",
       "        [  5,  34,  70]]])>"
      ]
     },
     "execution_count": 11,
     "metadata": {},
     "output_type": "execute_result"
    }
   ],
   "source": [
    "# creating tensor\n",
    "\n",
    "tensor = tf.constant([[[1,2,3],[4,5,6]],\n",
    "                     [[10,100,20],[2,4,6]],\n",
    "                      [[12,4,5],[5,34,70]]\n",
    "                     ])\n",
    "tensor"
   ]
  },
  {
   "cell_type": "code",
   "execution_count": 12,
   "id": "08896043",
   "metadata": {},
   "outputs": [
    {
     "data": {
      "text/plain": [
       "3"
      ]
     },
     "execution_count": 12,
     "metadata": {},
     "output_type": "execute_result"
    }
   ],
   "source": [
    "tensor.ndim\n"
   ]
  },
  {
   "cell_type": "markdown",
   "id": "6ebd3881",
   "metadata": {},
   "source": [
    "# what we have created\n",
    "\n",
    "* Scalar: a single number\n",
    "* Vector : a number with direction\n",
    "* Matrix :  2-d dimensional array of number\n",
    "* Tensor : an n-dimensional array of numbers(when n can be number , a 0-dimensional tensor is a scalar,a 1-dimensional tensor is a vector)\n",
    "    "
   ]
  },
  {
   "cell_type": "markdown",
   "id": "bf681f35",
   "metadata": {},
   "source": [
    "## Creating tensors with variables "
   ]
  },
  {
   "cell_type": "code",
   "execution_count": 13,
   "id": "a1957bec",
   "metadata": {},
   "outputs": [
    {
     "data": {
      "text/plain": [
       "(<tf.Variable 'Variable:0' shape=(2,) dtype=int32, numpy=array([10,  7])>,\n",
       " <tf.Tensor: shape=(2,), dtype=int32, numpy=array([10,  7])>)"
      ]
     },
     "execution_count": 13,
     "metadata": {},
     "output_type": "execute_result"
    }
   ],
   "source": [
    "# create the same tensor with tf.variable()\n",
    "\n",
    "changable_tensor = tf.Variable([10,7])\n",
    "unchangable_tensor = tf.constant([10,7])\n",
    "\n",
    "changable_tensor,unchangable_tensor\n"
   ]
  },
  {
   "cell_type": "code",
   "execution_count": 14,
   "id": "c82c7639",
   "metadata": {},
   "outputs": [
    {
     "data": {
      "text/plain": [
       "<tf.Variable 'Variable:0' shape=(2,) dtype=int32, numpy=array([7, 7])>"
      ]
     },
     "execution_count": 14,
     "metadata": {},
     "output_type": "execute_result"
    }
   ],
   "source": [
    "changable_tensor[0].assign(7)\n",
    "changable_tensor\n",
    " "
   ]
  },
  {
   "cell_type": "markdown",
   "id": "511bc66d",
   "metadata": {},
   "source": [
    "# Creating random tensors\n",
    "\n",
    "Random tensors  are tensors of some arbituary numbers"
   ]
  },
  {
   "cell_type": "code",
   "execution_count": 15,
   "id": "2d890dbf",
   "metadata": {},
   "outputs": [
    {
     "data": {
      "text/plain": [
       "(<tf.Tensor: shape=(3, 2), dtype=float32, numpy=\n",
       " array([[-0.7565803 , -0.06854702],\n",
       "        [ 0.07595026, -1.2573844 ],\n",
       "        [-0.23193763, -1.8107855 ]], dtype=float32)>,\n",
       " <tf.Tensor: shape=(3, 2), dtype=float32, numpy=\n",
       " array([[-0.7565803 , -0.06854702],\n",
       "        [ 0.07595026, -1.2573844 ],\n",
       "        [-0.23193763, -1.8107855 ]], dtype=float32)>)"
      ]
     },
     "execution_count": 15,
     "metadata": {},
     "output_type": "execute_result"
    }
   ],
   "source": [
    "# creating random tensors\n",
    "\n",
    "random_1 = tf.random.Generator.from_seed(42)\n",
    "random_1 = random_1.normal(shape=(3,2))\n",
    "\n",
    "random_2 = tf.random.Generator.from_seed(42)\n",
    "random_2 = random_2.normal(shape=(3,2))\n",
    "random_1,random_2"
   ]
  },
  {
   "cell_type": "code",
   "execution_count": 16,
   "id": "9e5375bd",
   "metadata": {},
   "outputs": [
    {
     "data": {
      "text/plain": [
       "<tf.Tensor: shape=(3, 2), dtype=int32, numpy=\n",
       "array([[20, 23],\n",
       "       [10,  7],\n",
       "       [20, 20]])>"
      ]
     },
     "execution_count": 16,
     "metadata": {},
     "output_type": "execute_result"
    }
   ],
   "source": [
    "# shuffle a tensor \n",
    "\n",
    "not_shuffled = tf.constant([[10,7],[20,20],[20,23]])\n",
    "\n",
    "#shuffle non shuffle data\n",
    "tf.random.shuffle(not_shuffled)\n"
   ]
  },
  {
   "cell_type": "code",
   "execution_count": 17,
   "id": "60b9ea67",
   "metadata": {},
   "outputs": [
    {
     "data": {
      "text/plain": [
       "<tf.Tensor: shape=(3, 3), dtype=int32, numpy=\n",
       "array([[ 2,  3,  4],\n",
       "       [ 1,  2,  3],\n",
       "       [ 2, 34, 33]])>"
      ]
     },
     "execution_count": 17,
     "metadata": {},
     "output_type": "execute_result"
    }
   ],
   "source": [
    "# Practicing 5 random tf seeds\n",
    "\n",
    "value_1 = tf.Variable([[1,2,3],[2,3,4],[2,34,33]])\n",
    "\n",
    "tf.random.set_seed(12)\n",
    "tf.random.shuffle(value_1,seed=10)"
   ]
  },
  {
   "cell_type": "code",
   "execution_count": 18,
   "id": "eab436c3",
   "metadata": {},
   "outputs": [
    {
     "data": {
      "text/plain": [
       "<tf.Tensor: shape=(3, 2, 3), dtype=int32, numpy=\n",
       "array([[[ 1,  2, 34],\n",
       "        [ 3,  5,  6]],\n",
       "\n",
       "       [[ 2,  3,  5],\n",
       "        [ 2,  3,  5]],\n",
       "\n",
       "       [[ 1,  2,  3],\n",
       "        [ 2,  3,  5]]])>"
      ]
     },
     "execution_count": 18,
     "metadata": {},
     "output_type": "execute_result"
    }
   ],
   "source": [
    "value_2 = tf.constant([[[1,2,3],[2,3,5]],\n",
    "                      [[1,2,34],[3,5,6]],\n",
    "                       [[2,3,5],[2,3,5]]\n",
    "                      ])\n",
    "\n",
    "# tf.random.set_seed(100)\n",
    "tf.random.shuffle(value_2,seed=11)"
   ]
  },
  {
   "cell_type": "markdown",
   "id": "073f5df3",
   "metadata": {},
   "source": [
    "# Crash course on numpy"
   ]
  },
  {
   "cell_type": "code",
   "execution_count": 19,
   "id": "9b0dc081",
   "metadata": {},
   "outputs": [],
   "source": [
    "import numpy as np "
   ]
  },
  {
   "cell_type": "code",
   "execution_count": 20,
   "id": "c1b8d44d",
   "metadata": {},
   "outputs": [
    {
     "data": {
      "text/plain": [
       "array([1, 2, 3])"
      ]
     },
     "execution_count": 20,
     "metadata": {},
     "output_type": "execute_result"
    }
   ],
   "source": [
    "a = np.array([1,2,3])\n",
    "a"
   ]
  },
  {
   "cell_type": "code",
   "execution_count": 21,
   "id": "939655b1",
   "metadata": {},
   "outputs": [
    {
     "data": {
      "text/plain": [
       "(3,)"
      ]
     },
     "execution_count": 21,
     "metadata": {},
     "output_type": "execute_result"
    }
   ],
   "source": [
    "a.shape\n"
   ]
  },
  {
   "cell_type": "code",
   "execution_count": 22,
   "id": "24ac4c98",
   "metadata": {},
   "outputs": [
    {
     "data": {
      "text/plain": [
       "dtype('int32')"
      ]
     },
     "execution_count": 22,
     "metadata": {},
     "output_type": "execute_result"
    }
   ],
   "source": [
    "a.dtype"
   ]
  },
  {
   "cell_type": "code",
   "execution_count": 23,
   "id": "cab14efc",
   "metadata": {},
   "outputs": [
    {
     "data": {
      "text/plain": [
       "4"
      ]
     },
     "execution_count": 23,
     "metadata": {},
     "output_type": "execute_result"
    }
   ],
   "source": [
    "a.itemsize"
   ]
  },
  {
   "cell_type": "markdown",
   "id": "e58128ed",
   "metadata": {},
   "source": [
    "# other ways to make tensors\n"
   ]
  },
  {
   "cell_type": "code",
   "execution_count": 24,
   "id": "f6499b0a",
   "metadata": {},
   "outputs": [
    {
     "data": {
      "text/plain": [
       "<tf.Tensor: shape=(10, 7), dtype=float32, numpy=\n",
       "array([[1., 1., 1., 1., 1., 1., 1.],\n",
       "       [1., 1., 1., 1., 1., 1., 1.],\n",
       "       [1., 1., 1., 1., 1., 1., 1.],\n",
       "       [1., 1., 1., 1., 1., 1., 1.],\n",
       "       [1., 1., 1., 1., 1., 1., 1.],\n",
       "       [1., 1., 1., 1., 1., 1., 1.],\n",
       "       [1., 1., 1., 1., 1., 1., 1.],\n",
       "       [1., 1., 1., 1., 1., 1., 1.],\n",
       "       [1., 1., 1., 1., 1., 1., 1.],\n",
       "       [1., 1., 1., 1., 1., 1., 1.]], dtype=float32)>"
      ]
     },
     "execution_count": 24,
     "metadata": {},
     "output_type": "execute_result"
    }
   ],
   "source": [
    "tf.ones([10,7])"
   ]
  },
  {
   "cell_type": "code",
   "execution_count": 25,
   "id": "07f52154",
   "metadata": {},
   "outputs": [
    {
     "data": {
      "text/plain": [
       "<tf.Tensor: shape=(3, 4), dtype=float32, numpy=\n",
       "array([[0., 0., 0., 0.],\n",
       "       [0., 0., 0., 0.],\n",
       "       [0., 0., 0., 0.]], dtype=float32)>"
      ]
     },
     "execution_count": 25,
     "metadata": {},
     "output_type": "execute_result"
    }
   ],
   "source": [
    "# creating tensor of all zeros\n",
    "\n",
    "tf.zeros(shape=(3,4))"
   ]
  },
  {
   "cell_type": "markdown",
   "id": "e6664724",
   "metadata": {},
   "source": [
    "## Turning numpy array into tensors\n",
    "The main difference between numpy array and tensors is that tensors can be run on GPU\n"
   ]
  },
  {
   "cell_type": "code",
   "execution_count": 26,
   "id": "a8a5706c",
   "metadata": {},
   "outputs": [
    {
     "data": {
      "text/plain": [
       "array([ 1,  2,  3,  4,  5,  6,  7,  8,  9, 10, 11, 12, 13, 14, 15, 16, 17,\n",
       "       18, 19, 20, 21, 22, 23, 24])"
      ]
     },
     "execution_count": 26,
     "metadata": {},
     "output_type": "execute_result"
    }
   ],
   "source": [
    "# TUrning into tensors\n",
    "\n",
    "import numpy as np\n",
    "\n",
    "numpy_A = np.arange(1,25,dtype=np.int32)\n",
    "\n",
    "numpy_A\n",
    "# X = tf.constant(s)"
   ]
  },
  {
   "cell_type": "code",
   "execution_count": 27,
   "id": "14a5a902",
   "metadata": {},
   "outputs": [
    {
     "data": {
      "text/plain": [
       "<tf.Tensor: shape=(2, 3, 4), dtype=int32, numpy=\n",
       "array([[[ 1,  2,  3,  4],\n",
       "        [ 5,  6,  7,  8],\n",
       "        [ 9, 10, 11, 12]],\n",
       "\n",
       "       [[13, 14, 15, 16],\n",
       "        [17, 18, 19, 20],\n",
       "        [21, 22, 23, 24]]])>"
      ]
     },
     "execution_count": 27,
     "metadata": {},
     "output_type": "execute_result"
    }
   ],
   "source": [
    "A = tf.constant(numpy_A,shape=(2,3,4))\n",
    "A"
   ]
  },
  {
   "cell_type": "code",
   "execution_count": 28,
   "id": "3933fa8b",
   "metadata": {},
   "outputs": [
    {
     "data": {
      "text/plain": [
       "3"
      ]
     },
     "execution_count": 28,
     "metadata": {},
     "output_type": "execute_result"
    }
   ],
   "source": [
    "A.ndim"
   ]
  },
  {
   "cell_type": "code",
   "execution_count": 29,
   "id": "5e2601cc",
   "metadata": {},
   "outputs": [
    {
     "data": {
      "text/plain": [
       "<tf.Tensor: shape=(2, 3, 4), dtype=int32, numpy=\n",
       "array([[[ 1,  2,  3,  4],\n",
       "        [ 5,  6,  7,  8],\n",
       "        [ 9, 10, 11, 12]],\n",
       "\n",
       "       [[13, 14, 15, 16],\n",
       "        [17, 18, 19, 20],\n",
       "        [21, 22, 23, 24]]])>"
      ]
     },
     "execution_count": 29,
     "metadata": {},
     "output_type": "execute_result"
    }
   ],
   "source": [
    "tf.random.shuffle(A,seed=10)\n",
    "A"
   ]
  },
  {
   "cell_type": "markdown",
   "id": "1f015a5d",
   "metadata": {},
   "source": [
    "# Getting information from tensors\n",
    "\n",
    "When dealing with tensors you probably want to be aware of the following \n",
    "\n",
    "* Shape\n",
    "* Rank \n",
    "* Axis or Dimension\n",
    "* Sizw"
   ]
  },
  {
   "cell_type": "code",
   "execution_count": 30,
   "id": "c169dd3e",
   "metadata": {},
   "outputs": [
    {
     "data": {
      "text/plain": [
       "<tf.Tensor: shape=(2, 3, 4, 5), dtype=float32, numpy=\n",
       "array([[[[0., 0., 0., 0., 0.],\n",
       "         [0., 0., 0., 0., 0.],\n",
       "         [0., 0., 0., 0., 0.],\n",
       "         [0., 0., 0., 0., 0.]],\n",
       "\n",
       "        [[0., 0., 0., 0., 0.],\n",
       "         [0., 0., 0., 0., 0.],\n",
       "         [0., 0., 0., 0., 0.],\n",
       "         [0., 0., 0., 0., 0.]],\n",
       "\n",
       "        [[0., 0., 0., 0., 0.],\n",
       "         [0., 0., 0., 0., 0.],\n",
       "         [0., 0., 0., 0., 0.],\n",
       "         [0., 0., 0., 0., 0.]]],\n",
       "\n",
       "\n",
       "       [[[0., 0., 0., 0., 0.],\n",
       "         [0., 0., 0., 0., 0.],\n",
       "         [0., 0., 0., 0., 0.],\n",
       "         [0., 0., 0., 0., 0.]],\n",
       "\n",
       "        [[0., 0., 0., 0., 0.],\n",
       "         [0., 0., 0., 0., 0.],\n",
       "         [0., 0., 0., 0., 0.],\n",
       "         [0., 0., 0., 0., 0.]],\n",
       "\n",
       "        [[0., 0., 0., 0., 0.],\n",
       "         [0., 0., 0., 0., 0.],\n",
       "         [0., 0., 0., 0., 0.],\n",
       "         [0., 0., 0., 0., 0.]]]], dtype=float32)>"
      ]
     },
     "execution_count": 30,
     "metadata": {},
     "output_type": "execute_result"
    }
   ],
   "source": [
    "# Create a rank 4 tensors \n",
    "\n",
    "rank_4_tensors = tf.zeros(shape=[2,3,4,5])\n",
    "\n",
    "rank_4_tensors"
   ]
  },
  {
   "cell_type": "code",
   "execution_count": 31,
   "id": "f39f86f6",
   "metadata": {},
   "outputs": [
    {
     "data": {
      "text/plain": [
       "<tf.Tensor: shape=(3, 4, 5), dtype=float32, numpy=\n",
       "array([[[0., 0., 0., 0., 0.],\n",
       "        [0., 0., 0., 0., 0.],\n",
       "        [0., 0., 0., 0., 0.],\n",
       "        [0., 0., 0., 0., 0.]],\n",
       "\n",
       "       [[0., 0., 0., 0., 0.],\n",
       "        [0., 0., 0., 0., 0.],\n",
       "        [0., 0., 0., 0., 0.],\n",
       "        [0., 0., 0., 0., 0.]],\n",
       "\n",
       "       [[0., 0., 0., 0., 0.],\n",
       "        [0., 0., 0., 0., 0.],\n",
       "        [0., 0., 0., 0., 0.],\n",
       "        [0., 0., 0., 0., 0.]]], dtype=float32)>"
      ]
     },
     "execution_count": 31,
     "metadata": {},
     "output_type": "execute_result"
    }
   ],
   "source": [
    "rank_4_tensors[0]"
   ]
  },
  {
   "cell_type": "code",
   "execution_count": 32,
   "id": "fc42d5b5",
   "metadata": {},
   "outputs": [
    {
     "data": {
      "text/plain": [
       "(TensorShape([2, 3, 4, 5]), 4, <tf.Tensor: shape=(), dtype=int32, numpy=120>)"
      ]
     },
     "execution_count": 32,
     "metadata": {},
     "output_type": "execute_result"
    }
   ],
   "source": [
    "rank_4_tensors.shape, rank_4_tensors.ndim,tf.size(rank_4_tensors)\n"
   ]
  },
  {
   "cell_type": "code",
   "execution_count": 33,
   "id": "2eb7c6bd",
   "metadata": {},
   "outputs": [
    {
     "name": "stdout",
     "output_type": "stream",
     "text": [
      "Data type of every elements: <dtype: 'float32'>\n",
      "Number of dimensions (rank): 4\n",
      "SHape of tensor (2, 3, 4, 5)\n",
      "Elements along the 0 axis:  2\n",
      "Elements along the last axis: 5\n"
     ]
    }
   ],
   "source": [
    "#  Get various attributes of our tensor\n",
    "\n",
    "print(\"Data type of every elements:\", rank_4_tensors.dtype)\n",
    "print(\"Number of dimensions (rank):\", rank_4_tensors.ndim)\n",
    "print(\"SHape of tensor\", rank_4_tensors.shape)\n",
    "print(\"Elements along the 0 axis: \", rank_4_tensors.shape[0])\n",
    "print(\"Elements along the last axis:\", rank_4_tensors.shape[-1])\n"
   ]
  },
  {
   "cell_type": "markdown",
   "id": "908dccfc",
   "metadata": {},
   "source": [
    "# Indexing tensors\n",
    "\n",
    "Tensors can be indexed like python lists"
   ]
  },
  {
   "cell_type": "code",
   "execution_count": 34,
   "id": "b2312b5a",
   "metadata": {},
   "outputs": [
    {
     "data": {
      "text/plain": [
       "<tf.Tensor: shape=(2, 3, 4, 5), dtype=float32, numpy=\n",
       "array([[[[0., 0., 0., 0., 0.],\n",
       "         [0., 0., 0., 0., 0.],\n",
       "         [0., 0., 0., 0., 0.],\n",
       "         [0., 0., 0., 0., 0.]],\n",
       "\n",
       "        [[0., 0., 0., 0., 0.],\n",
       "         [0., 0., 0., 0., 0.],\n",
       "         [0., 0., 0., 0., 0.],\n",
       "         [0., 0., 0., 0., 0.]],\n",
       "\n",
       "        [[0., 0., 0., 0., 0.],\n",
       "         [0., 0., 0., 0., 0.],\n",
       "         [0., 0., 0., 0., 0.],\n",
       "         [0., 0., 0., 0., 0.]]],\n",
       "\n",
       "\n",
       "       [[[0., 0., 0., 0., 0.],\n",
       "         [0., 0., 0., 0., 0.],\n",
       "         [0., 0., 0., 0., 0.],\n",
       "         [0., 0., 0., 0., 0.]],\n",
       "\n",
       "        [[0., 0., 0., 0., 0.],\n",
       "         [0., 0., 0., 0., 0.],\n",
       "         [0., 0., 0., 0., 0.],\n",
       "         [0., 0., 0., 0., 0.]],\n",
       "\n",
       "        [[0., 0., 0., 0., 0.],\n",
       "         [0., 0., 0., 0., 0.],\n",
       "         [0., 0., 0., 0., 0.],\n",
       "         [0., 0., 0., 0., 0.]]]], dtype=float32)>"
      ]
     },
     "execution_count": 34,
     "metadata": {},
     "output_type": "execute_result"
    }
   ],
   "source": [
    "# Get the first 2 element of each dimensions\n",
    "\n",
    "rank_4_tensors[:2,:3,:4,:5]"
   ]
  },
  {
   "cell_type": "code",
   "execution_count": 35,
   "id": "49d1f84f",
   "metadata": {},
   "outputs": [
    {
     "data": {
      "text/plain": [
       "<tf.Tensor: shape=(1, 1, 4, 1), dtype=float32, numpy=\n",
       "array([[[[0.],\n",
       "         [0.],\n",
       "         [0.],\n",
       "         [0.]]]], dtype=float32)>"
      ]
     },
     "execution_count": 35,
     "metadata": {},
     "output_type": "execute_result"
    }
   ],
   "source": [
    "#  Get the first element from each dimension from each index expcept for the final one\n",
    "\n",
    "rank_4_tensors[:1,:1,:,:1]"
   ]
  },
  {
   "cell_type": "code",
   "execution_count": 36,
   "id": "db14ff3c",
   "metadata": {},
   "outputs": [
    {
     "data": {
      "text/plain": [
       "<tf.Tensor: shape=(2, 2), dtype=int32, numpy=\n",
       "array([[10,  7],\n",
       "       [ 2,  2]])>"
      ]
     },
     "execution_count": 36,
     "metadata": {},
     "output_type": "execute_result"
    }
   ],
   "source": [
    "rank_2_tensor = tf.constant([[10,7],[2,2]])\n",
    "rank_2_tensor"
   ]
  },
  {
   "cell_type": "code",
   "execution_count": 37,
   "id": "ee286a39",
   "metadata": {},
   "outputs": [
    {
     "data": {
      "text/plain": [
       "<tf.Tensor: shape=(1, 2), dtype=int32, numpy=array([[10,  7]])>"
      ]
     },
     "execution_count": 37,
     "metadata": {},
     "output_type": "execute_result"
    }
   ],
   "source": [
    "# get the last item of each of row of our rank 2 tensor\n",
    "\n",
    "rank_2_tensor[:-1]"
   ]
  },
  {
   "cell_type": "code",
   "execution_count": 38,
   "id": "4c405496",
   "metadata": {},
   "outputs": [
    {
     "data": {
      "text/plain": [
       "<tf.Tensor: shape=(2, 2, 1), dtype=int32, numpy=\n",
       "array([[[10],\n",
       "        [ 7]],\n",
       "\n",
       "       [[ 2],\n",
       "        [ 2]]])>"
      ]
     },
     "execution_count": 38,
     "metadata": {},
     "output_type": "execute_result"
    }
   ],
   "source": [
    "#  Adding in extra dimension to our rank 2 tensor\n",
    "\n",
    "rank_3_tensor = rank_2_tensor[...,tf.newaxis]\n",
    "rank_3_tensor"
   ]
  },
  {
   "cell_type": "code",
   "execution_count": 39,
   "id": "9d185c98",
   "metadata": {},
   "outputs": [
    {
     "data": {
      "text/plain": [
       "<tf.Tensor: shape=(2, 1, 2), dtype=int32, numpy=\n",
       "array([[[10,  7]],\n",
       "\n",
       "       [[ 2,  2]]])>"
      ]
     },
     "execution_count": 39,
     "metadata": {},
     "output_type": "execute_result"
    }
   ],
   "source": [
    "#  Alternative to tf.newaxis\n",
    "\n",
    "tf.expand_dims(rank_2_tensor,axis=1)\n"
   ]
  },
  {
   "cell_type": "markdown",
   "id": "21d7388e",
   "metadata": {},
   "source": [
    "### Manipulating tensors (tensors operations)\n",
    "\n",
    "**Basic Operations**\n",
    "\n",
    "'+','-',*,/"
   ]
  },
  {
   "cell_type": "code",
   "execution_count": 40,
   "id": "ca064635",
   "metadata": {},
   "outputs": [
    {
     "data": {
      "text/plain": [
       "<tf.Tensor: shape=(2, 2), dtype=int32, numpy=\n",
       "array([[20, 15],\n",
       "       [20, 14]])>"
      ]
     },
     "execution_count": 40,
     "metadata": {},
     "output_type": "execute_result"
    }
   ],
   "source": [
    "tensor = tf.constant([[10,5],[10,4]])\n",
    "tensor +10"
   ]
  },
  {
   "cell_type": "code",
   "execution_count": 41,
   "id": "47cf3039",
   "metadata": {},
   "outputs": [
    {
     "data": {
      "text/plain": [
       "<tf.Tensor: shape=(2, 2), dtype=int32, numpy=\n",
       "array([[100,  50],\n",
       "       [100,  40]])>"
      ]
     },
     "execution_count": 41,
     "metadata": {},
     "output_type": "execute_result"
    }
   ],
   "source": [
    "# Multiplication \n",
    "\n",
    "tensor * 10"
   ]
  },
  {
   "cell_type": "markdown",
   "id": "07a24649",
   "metadata": {},
   "source": [
    "## Matrix multiplication"
   ]
  },
  {
   "cell_type": "code",
   "execution_count": 42,
   "id": "45639f5f",
   "metadata": {},
   "outputs": [
    {
     "data": {
      "text/plain": [
       "<tf.Tensor: shape=(2, 2), dtype=int32, numpy=\n",
       "array([[150,  70],\n",
       "       [140,  66]])>"
      ]
     },
     "execution_count": 42,
     "metadata": {},
     "output_type": "execute_result"
    }
   ],
   "source": [
    "tf.matmul(tensor,tensor)"
   ]
  },
  {
   "cell_type": "code",
   "execution_count": 43,
   "id": "38c27147",
   "metadata": {},
   "outputs": [
    {
     "data": {
      "text/plain": [
       "<tf.Tensor: shape=(3, 3), dtype=int32, numpy=\n",
       "array([[ 7, 10, 15],\n",
       "       [18, 26, 40],\n",
       "       [26, 38, 60]])>"
      ]
     },
     "execution_count": 43,
     "metadata": {},
     "output_type": "execute_result"
    }
   ],
   "source": [
    "# creTE A TENSOR (3,2)\n",
    "\n",
    "x = tf.constant([[1,2],[3,5],[5,7]])\n",
    "\n",
    "y = tf.constant([[1,2,5],[3,4,5]])\n",
    "\n",
    "tf.matmul(x,y)"
   ]
  },
  {
   "cell_type": "markdown",
   "id": "3190123c",
   "metadata": {},
   "source": [
    "**The Dot Product**\n",
    "\n",
    "Matrix multiplication is also referred to as the dot product\n",
    "\n",
    "You can perform matri multiplication using:\n",
    "\n",
    "* `tf.matmul()`\n",
    "*  `tf.tesnordot()`\n"
   ]
  },
  {
   "cell_type": "code",
   "execution_count": 44,
   "id": "002ba1a1",
   "metadata": {},
   "outputs": [
    {
     "data": {
      "text/plain": [
       "<tf.Tensor: shape=(2, 2), dtype=int32, numpy=\n",
       "array([[36, 36],\n",
       "       [55, 54]])>"
      ]
     },
     "execution_count": 44,
     "metadata": {},
     "output_type": "execute_result"
    }
   ],
   "source": [
    "#  Perform the dot product on X and Y \n",
    "\n",
    "tf.tensordot(tf.transpose(x),tf.reshape(y,shape=[3,2]),axes=1)\n",
    "# x,y"
   ]
  },
  {
   "cell_type": "code",
   "execution_count": 45,
   "id": "7cebc9f6",
   "metadata": {},
   "outputs": [
    {
     "data": {
      "text/plain": [
       "<tf.Tensor: shape=(3,), dtype=float32, numpy=array([1.4, 2.3, 3.4], dtype=float32)>"
      ]
     },
     "execution_count": 45,
     "metadata": {},
     "output_type": "execute_result"
    }
   ],
   "source": [
    "# Create a new tensor with default datatype\n",
    "\n",
    "B = tf.constant([1.4,2.3,3.4])\n",
    "B"
   ]
  },
  {
   "cell_type": "code",
   "execution_count": 46,
   "id": "aef4a842",
   "metadata": {},
   "outputs": [
    {
     "data": {
      "text/plain": [
       "<tf.Tensor: shape=(3,), dtype=int32, numpy=array([1, 2, 3])>"
      ]
     },
     "execution_count": 46,
     "metadata": {},
     "output_type": "execute_result"
    }
   ],
   "source": [
    "B = tf.cast(B,dtype=tf.int32)\n",
    "B"
   ]
  },
  {
   "cell_type": "markdown",
   "id": "b77b86b2",
   "metadata": {},
   "source": [
    "# Aggregrating tensors\n",
    "\n",
    "Aggregrating tensors = condensing them from multiple values down to a smaller amount\n"
   ]
  },
  {
   "cell_type": "code",
   "execution_count": 47,
   "id": "9fed5d6e",
   "metadata": {},
   "outputs": [
    {
     "data": {
      "text/plain": [
       "<tf.Tensor: shape=(3,), dtype=int32, numpy=array([ -1, 201,  10])>"
      ]
     },
     "execution_count": 47,
     "metadata": {},
     "output_type": "execute_result"
    }
   ],
   "source": [
    "#  Get the absolute valuee\n",
    "\n",
    "D = tf.constant([-1,201,10],dtype=tf.int32)\n",
    "D"
   ]
  },
  {
   "cell_type": "code",
   "execution_count": 48,
   "id": "9f4dcd08",
   "metadata": {},
   "outputs": [
    {
     "data": {
      "text/plain": [
       "<tf.Tensor: shape=(3,), dtype=int32, numpy=array([  1, 201,  10])>"
      ]
     },
     "execution_count": 48,
     "metadata": {},
     "output_type": "execute_result"
    }
   ],
   "source": [
    "tf.abs(D)"
   ]
  },
  {
   "cell_type": "markdown",
   "id": "6c710f12",
   "metadata": {},
   "source": [
    "**Going through  the following forms of aggregration**\n",
    "* Get the maximum\n",
    "* Get the minimum\n",
    "* Get the mean of tensor\n",
    "* Get the sum of a tensor"
   ]
  },
  {
   "cell_type": "code",
   "execution_count": 49,
   "id": "c9cf268d",
   "metadata": {},
   "outputs": [
    {
     "data": {
      "text/plain": [
       "<tf.Tensor: shape=(3,), dtype=int32, numpy=array([  1, 201,  10])>"
      ]
     },
     "execution_count": 49,
     "metadata": {},
     "output_type": "execute_result"
    }
   ],
   "source": [
    "tf.maximum(D,B)"
   ]
  },
  {
   "cell_type": "code",
   "execution_count": 50,
   "id": "d0483ba7",
   "metadata": {},
   "outputs": [
    {
     "data": {
      "text/plain": [
       "<tf.Tensor: shape=(3,), dtype=int32, numpy=array([-1,  2,  3])>"
      ]
     },
     "execution_count": 50,
     "metadata": {},
     "output_type": "execute_result"
    }
   ],
   "source": [
    "tf.minimum(D,B)"
   ]
  },
  {
   "cell_type": "code",
   "execution_count": 51,
   "id": "1016b622",
   "metadata": {},
   "outputs": [
    {
     "data": {
      "text/plain": [
       "<tf.Tensor: shape=(), dtype=int32, numpy=70>"
      ]
     },
     "execution_count": 51,
     "metadata": {},
     "output_type": "execute_result"
    }
   ],
   "source": [
    "tf.reduce_mean(D)"
   ]
  },
  {
   "cell_type": "code",
   "execution_count": 52,
   "id": "e875fb3b",
   "metadata": {},
   "outputs": [],
   "source": [
    "E = tf.constant(np.random.randint(0,100,size=50))"
   ]
  },
  {
   "cell_type": "code",
   "execution_count": 53,
   "id": "6a6a6dce",
   "metadata": {},
   "outputs": [
    {
     "data": {
      "text/plain": [
       "<tf.Tensor: shape=(50,), dtype=int32, numpy=\n",
       "array([87, 60, 87, 62,  3, 39, 87, 94, 22, 16, 84, 86, 90, 74, 99, 36, 26,\n",
       "        5, 88, 55, 64, 31, 19,  0, 27, 14, 51, 10, 58, 79, 30, 41, 82, 63,\n",
       "       92, 15, 16, 45, 95, 44, 97, 11, 10, 63, 43, 77, 57, 91, 68, 17])>"
      ]
     },
     "execution_count": 53,
     "metadata": {},
     "output_type": "execute_result"
    }
   ],
   "source": [
    "E"
   ]
  },
  {
   "cell_type": "code",
   "execution_count": 54,
   "id": "abd62827",
   "metadata": {},
   "outputs": [
    {
     "data": {
      "text/plain": [
       "(<tf.Tensor: shape=(), dtype=int32, numpy=50>,\n",
       " <tf.Tensor: shape=(1,), dtype=int32, numpy=array([50])>,\n",
       " 1)"
      ]
     },
     "execution_count": 54,
     "metadata": {},
     "output_type": "execute_result"
    }
   ],
   "source": [
    "tf.size(E),tf.shape(E), E.ndim"
   ]
  },
  {
   "cell_type": "code",
   "execution_count": 55,
   "id": "94f8dbe1",
   "metadata": {},
   "outputs": [
    {
     "data": {
      "text/plain": [
       "<tf.Tensor: shape=(), dtype=int32, numpy=0>"
      ]
     },
     "execution_count": 55,
     "metadata": {},
     "output_type": "execute_result"
    }
   ],
   "source": [
    "tf.reduce_min(E)"
   ]
  },
  {
   "cell_type": "code",
   "execution_count": 56,
   "id": "650adfe8",
   "metadata": {},
   "outputs": [
    {
     "data": {
      "text/plain": [
       "<tf.Tensor: shape=(), dtype=int32, numpy=99>"
      ]
     },
     "execution_count": 56,
     "metadata": {},
     "output_type": "execute_result"
    }
   ],
   "source": [
    "tf.reduce_max(E)"
   ]
  },
  {
   "cell_type": "code",
   "execution_count": 57,
   "id": "2c5c9a19",
   "metadata": {},
   "outputs": [],
   "source": [
    "mean = tf.reduce_mean(E)"
   ]
  },
  {
   "cell_type": "code",
   "execution_count": 58,
   "id": "3ee81c37",
   "metadata": {},
   "outputs": [
    {
     "data": {
      "text/plain": [
       "<tf.Tensor: shape=(), dtype=int32, numpy=2610>"
      ]
     },
     "execution_count": 58,
     "metadata": {},
     "output_type": "execute_result"
    }
   ],
   "source": [
    "tf.reduce_sum(E)"
   ]
  },
  {
   "cell_type": "code",
   "execution_count": 59,
   "id": "849d72d0",
   "metadata": {},
   "outputs": [
    {
     "data": {
      "text/plain": [
       "[<tf.Tensor: shape=(), dtype=int32, numpy=35>,\n",
       " <tf.Tensor: shape=(), dtype=int32, numpy=8>,\n",
       " <tf.Tensor: shape=(), dtype=int32, numpy=35>,\n",
       " <tf.Tensor: shape=(), dtype=int32, numpy=10>,\n",
       " <tf.Tensor: shape=(), dtype=int32, numpy=-49>,\n",
       " <tf.Tensor: shape=(), dtype=int32, numpy=-13>,\n",
       " <tf.Tensor: shape=(), dtype=int32, numpy=35>,\n",
       " <tf.Tensor: shape=(), dtype=int32, numpy=42>,\n",
       " <tf.Tensor: shape=(), dtype=int32, numpy=-30>,\n",
       " <tf.Tensor: shape=(), dtype=int32, numpy=-36>,\n",
       " <tf.Tensor: shape=(), dtype=int32, numpy=32>,\n",
       " <tf.Tensor: shape=(), dtype=int32, numpy=34>,\n",
       " <tf.Tensor: shape=(), dtype=int32, numpy=38>,\n",
       " <tf.Tensor: shape=(), dtype=int32, numpy=22>,\n",
       " <tf.Tensor: shape=(), dtype=int32, numpy=47>,\n",
       " <tf.Tensor: shape=(), dtype=int32, numpy=-16>,\n",
       " <tf.Tensor: shape=(), dtype=int32, numpy=-26>,\n",
       " <tf.Tensor: shape=(), dtype=int32, numpy=-47>,\n",
       " <tf.Tensor: shape=(), dtype=int32, numpy=36>,\n",
       " <tf.Tensor: shape=(), dtype=int32, numpy=3>,\n",
       " <tf.Tensor: shape=(), dtype=int32, numpy=12>,\n",
       " <tf.Tensor: shape=(), dtype=int32, numpy=-21>,\n",
       " <tf.Tensor: shape=(), dtype=int32, numpy=-33>,\n",
       " <tf.Tensor: shape=(), dtype=int32, numpy=-52>,\n",
       " <tf.Tensor: shape=(), dtype=int32, numpy=-25>,\n",
       " <tf.Tensor: shape=(), dtype=int32, numpy=-38>,\n",
       " <tf.Tensor: shape=(), dtype=int32, numpy=-1>,\n",
       " <tf.Tensor: shape=(), dtype=int32, numpy=-42>,\n",
       " <tf.Tensor: shape=(), dtype=int32, numpy=6>,\n",
       " <tf.Tensor: shape=(), dtype=int32, numpy=27>,\n",
       " <tf.Tensor: shape=(), dtype=int32, numpy=-22>,\n",
       " <tf.Tensor: shape=(), dtype=int32, numpy=-11>,\n",
       " <tf.Tensor: shape=(), dtype=int32, numpy=30>,\n",
       " <tf.Tensor: shape=(), dtype=int32, numpy=11>,\n",
       " <tf.Tensor: shape=(), dtype=int32, numpy=40>,\n",
       " <tf.Tensor: shape=(), dtype=int32, numpy=-37>,\n",
       " <tf.Tensor: shape=(), dtype=int32, numpy=-36>,\n",
       " <tf.Tensor: shape=(), dtype=int32, numpy=-7>,\n",
       " <tf.Tensor: shape=(), dtype=int32, numpy=43>,\n",
       " <tf.Tensor: shape=(), dtype=int32, numpy=-8>,\n",
       " <tf.Tensor: shape=(), dtype=int32, numpy=45>,\n",
       " <tf.Tensor: shape=(), dtype=int32, numpy=-41>,\n",
       " <tf.Tensor: shape=(), dtype=int32, numpy=-42>,\n",
       " <tf.Tensor: shape=(), dtype=int32, numpy=11>,\n",
       " <tf.Tensor: shape=(), dtype=int32, numpy=-9>,\n",
       " <tf.Tensor: shape=(), dtype=int32, numpy=25>,\n",
       " <tf.Tensor: shape=(), dtype=int32, numpy=5>,\n",
       " <tf.Tensor: shape=(), dtype=int32, numpy=39>,\n",
       " <tf.Tensor: shape=(), dtype=int32, numpy=16>,\n",
       " <tf.Tensor: shape=(), dtype=int32, numpy=-35>]"
      ]
     },
     "execution_count": 59,
     "metadata": {},
     "output_type": "execute_result"
    }
   ],
   "source": [
    "# finding variance and standard deviation using tensorflow methods\n",
    "\n",
    "sub_mean = [x - mean for x in E ]\n",
    "sub_mean"
   ]
  },
  {
   "cell_type": "code",
   "execution_count": 60,
   "id": "9fff9463",
   "metadata": {},
   "outputs": [
    {
     "data": {
      "text/plain": [
       "array([1225,   64, 1225,  100, 2401,  169, 1225, 1764,  900, 1296, 1024,\n",
       "       1156, 1444,  484, 2209,  256,  676, 2209, 1296,    9,  144,  441,\n",
       "       1089, 2704,  625, 1444,    1, 1764,   36,  729,  484,  121,  900,\n",
       "        121, 1600, 1369, 1296,   49, 1849,   64, 2025, 1681, 1764,  121,\n",
       "         81,  625,   25, 1521,  256, 1225])"
      ]
     },
     "execution_count": 60,
     "metadata": {},
     "output_type": "execute_result"
    }
   ],
   "source": [
    "square_sub_mean = np.square(sub_mean)\n",
    "square_sub_mean"
   ]
  },
  {
   "cell_type": "code",
   "execution_count": 61,
   "id": "382ab891",
   "metadata": {},
   "outputs": [],
   "source": [
    "total_value = sum(square_sub_mean)"
   ]
  },
  {
   "cell_type": "code",
   "execution_count": 62,
   "id": "bc525f6f",
   "metadata": {},
   "outputs": [
    {
     "data": {
      "text/plain": [
       "47286"
      ]
     },
     "execution_count": 62,
     "metadata": {},
     "output_type": "execute_result"
    }
   ],
   "source": [
    "total_value"
   ]
  },
  {
   "cell_type": "code",
   "execution_count": 63,
   "id": "23954b08",
   "metadata": {},
   "outputs": [
    {
     "data": {
      "text/plain": [
       "965.0204081632653"
      ]
     },
     "execution_count": 63,
     "metadata": {},
     "output_type": "execute_result"
    }
   ],
   "source": [
    "variance = total_value/ (len(E)-1)\n",
    "variance"
   ]
  },
  {
   "cell_type": "code",
   "execution_count": 64,
   "id": "35b188b0",
   "metadata": {},
   "outputs": [
    {
     "data": {
      "text/plain": [
       "<tf.Tensor: shape=(), dtype=float64, numpy=31.06477761329164>"
      ]
     },
     "execution_count": 64,
     "metadata": {},
     "output_type": "execute_result"
    }
   ],
   "source": [
    "std_dev = tf.sqrt(variance)\n",
    "std_dev"
   ]
  },
  {
   "cell_type": "code",
   "execution_count": 65,
   "id": "78472050",
   "metadata": {},
   "outputs": [
    {
     "name": "stdout",
     "output_type": "stream",
     "text": [
      "Requirement already satisfied: tensorflow_probability in c:\\users\\ayush\\anaconda3\\lib\\site-packages (0.19.0)\n",
      "Requirement already satisfied: numpy>=1.13.3 in c:\\users\\ayush\\anaconda3\\lib\\site-packages (from tensorflow_probability) (1.23.5)\n",
      "Requirement already satisfied: six>=1.10.0 in c:\\users\\ayush\\anaconda3\\lib\\site-packages (from tensorflow_probability) (1.16.0)\n",
      "Requirement already satisfied: absl-py in c:\\users\\ayush\\anaconda3\\lib\\site-packages (from tensorflow_probability) (1.4.0)\n",
      "Requirement already satisfied: gast>=0.3.2 in c:\\users\\ayush\\anaconda3\\lib\\site-packages (from tensorflow_probability) (0.4.0)\n",
      "Requirement already satisfied: cloudpickle>=1.3 in c:\\users\\ayush\\anaconda3\\lib\\site-packages (from tensorflow_probability) (2.0.0)\n",
      "Requirement already satisfied: dm-tree in c:\\users\\ayush\\anaconda3\\lib\\site-packages (from tensorflow_probability) (0.1.8)\n",
      "Requirement already satisfied: decorator in c:\\users\\ayush\\anaconda3\\lib\\site-packages (from tensorflow_probability) (5.1.1)\n",
      "Note: you may need to restart the kernel to use updated packages.\n"
     ]
    }
   ],
   "source": [
    "pip install tensorflow_probability"
   ]
  },
  {
   "cell_type": "code",
   "execution_count": 66,
   "id": "aa9e3760",
   "metadata": {},
   "outputs": [
    {
     "data": {
      "text/plain": [
       "<tf.Tensor: shape=(), dtype=float32, numpy=30.751911>"
      ]
     },
     "execution_count": 66,
     "metadata": {},
     "output_type": "execute_result"
    }
   ],
   "source": [
    "import tensorflow_probability as tfp\n",
    "tfp.stats.variance(E)\n",
    "\n",
    "tf.math.reduce_std(tf.cast(E,dtype=tf.float32))"
   ]
  },
  {
   "cell_type": "code",
   "execution_count": 67,
   "id": "c5e289b6",
   "metadata": {},
   "outputs": [
    {
     "data": {
      "text/plain": [
       "<tf.Tensor: shape=(50,), dtype=float32, numpy=\n",
       "array([0.6645621 , 0.44100678, 0.3528825 , 0.46448255, 0.03366041,\n",
       "       0.68467236, 0.74011743, 0.8724445 , 0.22632635, 0.22319686,\n",
       "       0.3103881 , 0.7223358 , 0.13318717, 0.5480639 , 0.5746088 ,\n",
       "       0.8996835 , 0.00946367, 0.5212307 , 0.6345445 , 0.1993283 ,\n",
       "       0.72942245, 0.54583454, 0.10756552, 0.6767061 , 0.6602763 ,\n",
       "       0.33695042, 0.60141766, 0.21062577, 0.8527372 , 0.44062173,\n",
       "       0.9485276 , 0.23752594, 0.81179297, 0.5263394 , 0.494308  ,\n",
       "       0.21612847, 0.8457197 , 0.8718841 , 0.3083862 , 0.6868038 ,\n",
       "       0.23764038, 0.7817228 , 0.9671384 , 0.06870162, 0.79873943,\n",
       "       0.66028714, 0.5871513 , 0.16461694, 0.7381023 , 0.32054043],\n",
       "      dtype=float32)>"
      ]
     },
     "execution_count": 67,
     "metadata": {},
     "output_type": "execute_result"
    }
   ],
   "source": [
    "# Create a new tensor for finding positional minimum and maximum\n",
    "\n",
    "tf.random.set_seed(42)\n",
    "F = tf.random.uniform(shape=[50])\n",
    "F"
   ]
  },
  {
   "cell_type": "code",
   "execution_count": 68,
   "id": "64189224",
   "metadata": {},
   "outputs": [
    {
     "data": {
      "text/plain": [
       "<tf.Tensor: shape=(), dtype=int64, numpy=42>"
      ]
     },
     "execution_count": 68,
     "metadata": {},
     "output_type": "execute_result"
    }
   ],
   "source": [
    "# Fi d the positional maximum\n",
    "\n",
    "tf.argmax(F)"
   ]
  },
  {
   "cell_type": "code",
   "execution_count": 69,
   "id": "7f1c42a2",
   "metadata": {},
   "outputs": [
    {
     "data": {
      "text/plain": [
       "<tf.Tensor: shape=(), dtype=float32, numpy=0.9671384>"
      ]
     },
     "execution_count": 69,
     "metadata": {},
     "output_type": "execute_result"
    }
   ],
   "source": [
    "# index of largest value\n",
    "F[tf.argmax(F)]"
   ]
  },
  {
   "cell_type": "code",
   "execution_count": 70,
   "id": "19c23409",
   "metadata": {},
   "outputs": [],
   "source": [
    "assert F[tf.argmax(F)] == tf.reduce_max(F)"
   ]
  },
  {
   "cell_type": "markdown",
   "id": "4c2ace38",
   "metadata": {},
   "source": [
    "## Sqeezing tensors\n",
    "creating tensors or romoving 1-d array"
   ]
  },
  {
   "cell_type": "code",
   "execution_count": 72,
   "id": "92e7f9e9",
   "metadata": {},
   "outputs": [
    {
     "data": {
      "text/plain": [
       "<tf.Tensor: shape=(1, 1, 1, 1, 50), dtype=float32, numpy=\n",
       "array([[[[[0.2733041 , 0.5020257 , 0.6628481 , 0.6473899 , 0.3857293 ,\n",
       "           0.36172044, 0.5412978 , 0.48597205, 0.8773687 , 0.19192028,\n",
       "           0.9264002 , 0.89626896, 0.6672703 , 0.47216296, 0.22052324,\n",
       "           0.88224113, 0.21332026, 0.3742751 , 0.6198429 , 0.67401516,\n",
       "           0.33629417, 0.04864144, 0.00223255, 0.9375315 , 0.1595205 ,\n",
       "           0.76488817, 0.5631764 , 0.48775423, 0.4250028 , 0.29910493,\n",
       "           0.8409952 , 0.6727512 , 0.00153816, 0.4085456 , 0.9261861 ,\n",
       "           0.18742752, 0.60272205, 0.99417937, 0.42423892, 0.27978897,\n",
       "           0.9430332 , 0.80545497, 0.06359637, 0.56783044, 0.26592016,\n",
       "           0.98973536, 0.5452112 , 0.11514163, 0.53635466, 0.6935723 ]]]]],\n",
       "      dtype=float32)>"
      ]
     },
     "execution_count": 72,
     "metadata": {},
     "output_type": "execute_result"
    }
   ],
   "source": [
    "tf.random.set_seed(43)\n",
    "G = tf.constant(tf.random.uniform(shape=[50]),shape=(1,1,1,1,50))\n",
    "G"
   ]
  },
  {
   "cell_type": "code",
   "execution_count": 74,
   "id": "3440648e",
   "metadata": {},
   "outputs": [
    {
     "data": {
      "text/plain": [
       "TensorShape([1, 1, 1, 1, 50])"
      ]
     },
     "execution_count": 74,
     "metadata": {},
     "output_type": "execute_result"
    }
   ],
   "source": [
    "G.shape\n"
   ]
  },
  {
   "cell_type": "code",
   "execution_count": 75,
   "id": "b133056e",
   "metadata": {},
   "outputs": [
    {
     "data": {
      "text/plain": [
       "(<tf.Tensor: shape=(50,), dtype=float32, numpy=\n",
       " array([0.2733041 , 0.5020257 , 0.6628481 , 0.6473899 , 0.3857293 ,\n",
       "        0.36172044, 0.5412978 , 0.48597205, 0.8773687 , 0.19192028,\n",
       "        0.9264002 , 0.89626896, 0.6672703 , 0.47216296, 0.22052324,\n",
       "        0.88224113, 0.21332026, 0.3742751 , 0.6198429 , 0.67401516,\n",
       "        0.33629417, 0.04864144, 0.00223255, 0.9375315 , 0.1595205 ,\n",
       "        0.76488817, 0.5631764 , 0.48775423, 0.4250028 , 0.29910493,\n",
       "        0.8409952 , 0.6727512 , 0.00153816, 0.4085456 , 0.9261861 ,\n",
       "        0.18742752, 0.60272205, 0.99417937, 0.42423892, 0.27978897,\n",
       "        0.9430332 , 0.80545497, 0.06359637, 0.56783044, 0.26592016,\n",
       "        0.98973536, 0.5452112 , 0.11514163, 0.53635466, 0.6935723 ],\n",
       "       dtype=float32)>,\n",
       " TensorShape([50]))"
      ]
     },
     "execution_count": 75,
     "metadata": {},
     "output_type": "execute_result"
    }
   ],
   "source": [
    "G_squeezed = tf.squeeze(G)\n",
    "G_squeezed, G_squeezed.shape"
   ]
  },
  {
   "cell_type": "markdown",
   "id": "6342b381",
   "metadata": {},
   "source": [
    "## One hot encode\n",
    "\n",
    "It is one way of encoding the data into numbers\n"
   ]
  },
  {
   "cell_type": "code",
   "execution_count": 90,
   "id": "bd10150c",
   "metadata": {},
   "outputs": [
    {
     "data": {
      "text/plain": [
       "<tf.Tensor: shape=(4, 4), dtype=float32, numpy=\n",
       "array([[0., 1., 0., 0.],\n",
       "       [0., 0., 1., 0.],\n",
       "       [0., 0., 0., 1.],\n",
       "       [0., 0., 0., 0.]], dtype=float32)>"
      ]
     },
     "execution_count": 90,
     "metadata": {},
     "output_type": "execute_result"
    }
   ],
   "source": [
    "# Create the number of list of indices\n",
    "\n",
    "some_list = [1,2,3,4]\n",
    "tf.one_hot(some_list,depth=4)"
   ]
  },
  {
   "cell_type": "code",
   "execution_count": 91,
   "id": "71b78340",
   "metadata": {},
   "outputs": [
    {
     "data": {
      "text/plain": [
       "<tf.Tensor: shape=(4, 4), dtype=string, numpy=\n",
       "array([[b'I dont love dancing', b'Yo I love dancing',\n",
       "        b'I dont love dancing', b'I dont love dancing'],\n",
       "       [b'I dont love dancing', b'I dont love dancing',\n",
       "        b'Yo I love dancing', b'I dont love dancing'],\n",
       "       [b'I dont love dancing', b'I dont love dancing',\n",
       "        b'I dont love dancing', b'Yo I love dancing'],\n",
       "       [b'I dont love dancing', b'I dont love dancing',\n",
       "        b'I dont love dancing', b'I dont love dancing']], dtype=object)>"
      ]
     },
     "execution_count": 91,
     "metadata": {},
     "output_type": "execute_result"
    }
   ],
   "source": [
    "tf.one_hot(some_list,depth=4,on_value=\"Yo I love dancing\",off_value=\"I dont love dancing\")"
   ]
  },
  {
   "cell_type": "code",
   "execution_count": 94,
   "id": "571dbfca",
   "metadata": {},
   "outputs": [
    {
     "data": {
      "text/plain": [
       "<tf.Tensor: shape=(4, 2), dtype=int32, numpy=\n",
       "array([[0, 3],\n",
       "       [0, 0],\n",
       "       [0, 0],\n",
       "       [0, 0]])>"
      ]
     },
     "execution_count": 94,
     "metadata": {},
     "output_type": "execute_result"
    }
   ],
   "source": [
    "tf.one_hot(some_list,depth=2,on_value=3)"
   ]
  },
  {
   "cell_type": "markdown",
   "id": "8ce4bd29",
   "metadata": {},
   "source": [
    "## Squaring,log,squareroot"
   ]
  },
  {
   "cell_type": "code",
   "execution_count": 96,
   "id": "ee42d09d",
   "metadata": {},
   "outputs": [
    {
     "data": {
      "text/plain": [
       "<tf.Tensor: shape=(9,), dtype=int32, numpy=array([1, 2, 3, 4, 5, 6, 7, 8, 9])>"
      ]
     },
     "execution_count": 96,
     "metadata": {},
     "output_type": "execute_result"
    }
   ],
   "source": [
    "h = tf.range(1,10)\n",
    "h"
   ]
  },
  {
   "cell_type": "code",
   "execution_count": 97,
   "id": "1fd77997",
   "metadata": {},
   "outputs": [
    {
     "data": {
      "text/plain": [
       "<tf.Tensor: shape=(9,), dtype=int32, numpy=array([ 1,  4,  9, 16, 25, 36, 49, 64, 81])>"
      ]
     },
     "execution_count": 97,
     "metadata": {},
     "output_type": "execute_result"
    }
   ],
   "source": [
    "tf.square(h)"
   ]
  },
  {
   "cell_type": "code",
   "execution_count": 98,
   "id": "8145898d",
   "metadata": {},
   "outputs": [
    {
     "data": {
      "text/plain": [
       "<tf.Tensor: shape=(9,), dtype=float32, numpy=\n",
       "array([1.       , 1.4142135, 1.7320508, 2.       , 2.236068 , 2.4494898,\n",
       "       2.6457512, 2.828427 , 3.       ], dtype=float32)>"
      ]
     },
     "execution_count": 98,
     "metadata": {},
     "output_type": "execute_result"
    }
   ],
   "source": [
    "tf.sqrt(tf.cast(h,dtype=tf.float32))"
   ]
  },
  {
   "cell_type": "code",
   "execution_count": 101,
   "id": "7b7fcafb",
   "metadata": {},
   "outputs": [
    {
     "data": {
      "text/plain": [
       "<tf.Tensor: shape=(9,), dtype=float32, numpy=\n",
       "array([0.       , 0.6931472, 1.0986123, 1.3862944, 1.609438 , 1.7917595,\n",
       "       1.9459102, 2.0794415, 2.1972246], dtype=float32)>"
      ]
     },
     "execution_count": 101,
     "metadata": {},
     "output_type": "execute_result"
    }
   ],
   "source": [
    "tf.math.log(tf.cast(h,dtype=tf.float32))"
   ]
  },
  {
   "cell_type": "code",
   "execution_count": 106,
   "id": "5cf01995",
   "metadata": {},
   "outputs": [
    {
     "data": {
      "text/plain": [
       "<tf.Tensor: shape=(9,), dtype=int32, numpy=array([11, 12, 13, 14, 15, 16, 17, 18, 19])>"
      ]
     },
     "execution_count": 106,
     "metadata": {},
     "output_type": "execute_result"
    }
   ],
   "source": [
    "i = 10\n",
    "tf.add(h,i)"
   ]
  },
  {
   "cell_type": "markdown",
   "id": "caa5ae3c",
   "metadata": {},
   "source": [
    "## Tensorflow and numpy"
   ]
  },
  {
   "cell_type": "code",
   "execution_count": 108,
   "id": "94808ff4",
   "metadata": {},
   "outputs": [
    {
     "data": {
      "text/plain": [
       "<tf.Tensor: shape=(4,), dtype=float64, numpy=array([2., 3., 4., 5.])>"
      ]
     },
     "execution_count": 108,
     "metadata": {},
     "output_type": "execute_result"
    }
   ],
   "source": [
    "#Create a tensor directly from a Numpy array\n",
    "\n",
    "J = tf.constant(np.array([2.,3,4,5]))\n",
    "J"
   ]
  },
  {
   "cell_type": "code",
   "execution_count": 110,
   "id": "2d212afc",
   "metadata": {},
   "outputs": [
    {
     "data": {
      "text/plain": [
       "array([2., 3., 4., 5.])"
      ]
     },
     "execution_count": 110,
     "metadata": {},
     "output_type": "execute_result"
    }
   ],
   "source": [
    "np.array(J)"
   ]
  },
  {
   "cell_type": "markdown",
   "id": "5c6addde",
   "metadata": {},
   "source": [
    "## Finding access to gpu"
   ]
  },
  {
   "cell_type": "code",
   "execution_count": 113,
   "id": "7b0424f9",
   "metadata": {},
   "outputs": [
    {
     "data": {
      "text/plain": [
       "[PhysicalDevice(name='/physical_device:CPU:0', device_type='CPU')]"
      ]
     },
     "execution_count": 113,
     "metadata": {},
     "output_type": "execute_result"
    }
   ],
   "source": [
    "tf.config.list_physical_devices()"
   ]
  },
  {
   "cell_type": "markdown",
   "id": "7ae4180b",
   "metadata": {},
   "source": []
  }
 ],
 "metadata": {
  "kernelspec": {
   "display_name": "Python 3 (ipykernel)",
   "language": "python",
   "name": "python3"
  },
  "language_info": {
   "codemirror_mode": {
    "name": "ipython",
    "version": 3
   },
   "file_extension": ".py",
   "mimetype": "text/x-python",
   "name": "python",
   "nbconvert_exporter": "python",
   "pygments_lexer": "ipython3",
   "version": "3.9.13"
  }
 },
 "nbformat": 4,
 "nbformat_minor": 5
}
